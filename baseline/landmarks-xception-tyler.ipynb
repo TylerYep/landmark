{
 "cells": [
  {
   "cell_type": "code",
   "execution_count": 53,
   "metadata": {},
   "outputs": [
    {
     "name": "stdout",
     "output_type": "stream",
     "text": [
      "The autoreload extension is already loaded. To reload it, use:\n",
      "  %reload_ext autoreload\n",
      "Keras version: 2.2.4\n"
     ]
    }
   ],
   "source": [
    "%load_ext autoreload\n",
    "%autoreload 2\n",
    "\n",
    "import glob\n",
    "import warnings\n",
    "\n",
    "import cv2\n",
    "import numpy as np\n",
    "import pandas as pd\n",
    "\n",
    "import keras\n",
    "import keras.backend as K\n",
    "\n",
    "from keras import Model, Sequential\n",
    "from keras.layers import Dense, Dropout, Flatten, Input, LeakyReLU\n",
    "from keras.layers import BatchNormalization, Activation, Conv2D\n",
    "from keras.layers import GlobalAveragePooling2D, Lambda\n",
    "from keras.optimizers import Adam, RMSprop\n",
    "\n",
    "from keras.applications.xception import Xception\n",
    "from keras.applications.xception import preprocess_input\n",
    "from keras.preprocessing.image import ImageDataGenerator \n",
    "from keras.utils import to_categorical\n",
    "from keras.callbacks import ModelCheckpoint\n",
    "\n",
    "from sklearn.preprocessing import LabelEncoder, OneHotEncoder\n",
    "from sklearn.metrics import accuracy_score\n",
    "\n",
    "import matplotlib.pyplot as plt\n",
    "\n",
    "import tensorflow as tf\n",
    "\n",
    "%matplotlib inline\n",
    "\n",
    "print('Keras version:', keras.__version__)\n",
    "\n",
    "warnings.simplefilter('default')\n",
    "warnings.simplefilter('ignore') # Tyler: Get rid of deprecation warnings\n",
    "basic_version = False"
   ]
  },
  {
   "cell_type": "markdown",
   "metadata": {},
   "source": [
    "#### Set a few global parameters and directories"
   ]
  },
  {
   "cell_type": "code",
   "execution_count": 57,
   "metadata": {},
   "outputs": [],
   "source": [
    "# train_path = './train-highres/'\n",
    "# non_landmark_train_path = './distractors/*/'\n",
    "# dev_path = './dev/'\n",
    "# non_landmark_dev_path = './distractors-dev/'\n",
    "# test_path = './test-highres/'\n",
    "\n",
    "# n_cat = 14942\n",
    "\n",
    "# batch_size = 48\n",
    "# batch_size_predict = 128\n",
    "# input_shape = (299,299)\n",
    "\n",
    "\n",
    "data_path = '../data/'\n",
    "train_path = '../data/images/train-subset/' # on macs, change backslash\n",
    "dev_path = train_path\n",
    "test_path = '../data/images/test/'\n",
    "\n",
    "\n",
    "n_cat = 5 # classes examining\n",
    "\n",
    "batch_size = 16\n",
    "batch_size_predict = 16\n",
    "input_shape = (299,299)"
   ]
  },
  {
   "cell_type": "code",
   "execution_count": 31,
   "metadata": {
    "scrolled": false
   },
   "outputs": [],
   "source": [
    "train_image_files = glob.glob(train_path+'*.jpg')\n",
    "train_image_ids = [image_file.replace('.jpg', '').replace(train_path, '') for image_file in train_image_files]\n",
    "train_info_full = pd.read_csv(data_path+'train-subset.csv', index_col='id')\n",
    "train_info_full.head()\n",
    "train_info = train_info_full.loc[train_image_ids]\n",
    "train_info['filename'] = pd.Series(train_image_files, index=train_image_ids)\n",
    "# Heidi: commented out b/c our subset should not be missing any images\n",
    "# train_info_correct = pd.read_csv('train_info_correct.csv', index_col='id')\n",
    "# train_info = train_info[train_info['landmark_id'].isin(train_info_correct['landmark_id'])]"
   ]
  },
  {
   "cell_type": "code",
   "execution_count": 32,
   "metadata": {},
   "outputs": [
    {
     "name": "stdout",
     "output_type": "stream",
     "text": [
      "5\n"
     ]
    }
   ],
   "source": [
    "n_cat_train=train_info['landmark_id'].nunique()\n",
    "print(n_cat_train)\n",
    "if n_cat_train != n_cat:\n",
    "    warnings.warn('Warning: The training data is not compatible.')"
   ]
  },
  {
   "cell_type": "code",
   "execution_count": 33,
   "metadata": {},
   "outputs": [
    {
     "data": {
      "text/html": [
       "<div>\n",
       "<style scoped>\n",
       "    .dataframe tbody tr th:only-of-type {\n",
       "        vertical-align: middle;\n",
       "    }\n",
       "\n",
       "    .dataframe tbody tr th {\n",
       "        vertical-align: top;\n",
       "    }\n",
       "\n",
       "    .dataframe thead th {\n",
       "        text-align: right;\n",
       "    }\n",
       "</style>\n",
       "<table border=\"1\" class=\"dataframe\">\n",
       "  <thead>\n",
       "    <tr style=\"text-align: right;\">\n",
       "      <th></th>\n",
       "      <th>url</th>\n",
       "      <th>landmark_id</th>\n",
       "      <th>filename</th>\n",
       "    </tr>\n",
       "    <tr>\n",
       "      <th>id</th>\n",
       "      <th></th>\n",
       "      <th></th>\n",
       "      <th></th>\n",
       "    </tr>\n",
       "  </thead>\n",
       "  <tbody>\n",
       "    <tr>\n",
       "      <th>beef63d6a6236b9d</th>\n",
       "      <td>http://lh4.ggpht.com/-ykFvxrAjAjY/S9XZnI-uQaI/...</td>\n",
       "      <td>9779</td>\n",
       "      <td>../data/images/train-subset/beef63d6a6236b9d.jpg</td>\n",
       "    </tr>\n",
       "    <tr>\n",
       "      <th>4c8fb1fc94f3cabf</th>\n",
       "      <td>http://lh3.ggpht.com/-IewXaHvMVQc/RZhs1KEWXZI/...</td>\n",
       "      <td>6051</td>\n",
       "      <td>../data/images/train-subset/4c8fb1fc94f3cabf.jpg</td>\n",
       "    </tr>\n",
       "    <tr>\n",
       "      <th>779e3ce783d13c85</th>\n",
       "      <td>http://lh6.ggpht.com/-j2-SZ9UqBrs/Tgx_kufPd4I/...</td>\n",
       "      <td>2061</td>\n",
       "      <td>../data/images/train-subset/779e3ce783d13c85.jpg</td>\n",
       "    </tr>\n",
       "    <tr>\n",
       "      <th>b71482512fb35ebc</th>\n",
       "      <td>http://lh5.ggpht.com/-8JDVt995ndQ/UEtFkI3t24I/...</td>\n",
       "      <td>9779</td>\n",
       "      <td>../data/images/train-subset/b71482512fb35ebc.jpg</td>\n",
       "    </tr>\n",
       "    <tr>\n",
       "      <th>bb4a1aed895f7f09</th>\n",
       "      <td>http://lh3.ggpht.com/-sbx72QueShg/SOJxoiXqOXI/...</td>\n",
       "      <td>6599</td>\n",
       "      <td>../data/images/train-subset/bb4a1aed895f7f09.jpg</td>\n",
       "    </tr>\n",
       "  </tbody>\n",
       "</table>\n",
       "</div>"
      ],
      "text/plain": [
       "                                                                url  \\\n",
       "id                                                                    \n",
       "beef63d6a6236b9d  http://lh4.ggpht.com/-ykFvxrAjAjY/S9XZnI-uQaI/...   \n",
       "4c8fb1fc94f3cabf  http://lh3.ggpht.com/-IewXaHvMVQc/RZhs1KEWXZI/...   \n",
       "779e3ce783d13c85  http://lh6.ggpht.com/-j2-SZ9UqBrs/Tgx_kufPd4I/...   \n",
       "b71482512fb35ebc  http://lh5.ggpht.com/-8JDVt995ndQ/UEtFkI3t24I/...   \n",
       "bb4a1aed895f7f09  http://lh3.ggpht.com/-sbx72QueShg/SOJxoiXqOXI/...   \n",
       "\n",
       "                  landmark_id  \\\n",
       "id                              \n",
       "beef63d6a6236b9d         9779   \n",
       "4c8fb1fc94f3cabf         6051   \n",
       "779e3ce783d13c85         2061   \n",
       "b71482512fb35ebc         9779   \n",
       "bb4a1aed895f7f09         6599   \n",
       "\n",
       "                                                          filename  \n",
       "id                                                                  \n",
       "beef63d6a6236b9d  ../data/images/train-subset/beef63d6a6236b9d.jpg  \n",
       "4c8fb1fc94f3cabf  ../data/images/train-subset/4c8fb1fc94f3cabf.jpg  \n",
       "779e3ce783d13c85  ../data/images/train-subset/779e3ce783d13c85.jpg  \n",
       "b71482512fb35ebc  ../data/images/train-subset/b71482512fb35ebc.jpg  \n",
       "bb4a1aed895f7f09  ../data/images/train-subset/bb4a1aed895f7f09.jpg  "
      ]
     },
     "execution_count": 33,
     "metadata": {},
     "output_type": "execute_result"
    }
   ],
   "source": [
    "# if not basic_version:\n",
    "dev_image_files = glob.glob(dev_path + '*.jpg')\n",
    "dev_image_ids = [image_file.replace(\n",
    "    '.jpg', '').replace(dev_path, '') for image_file in dev_image_files]\n",
    "dev_info = train_info_full.loc[dev_image_ids]\n",
    "dev_info['filename'] = pd.Series(dev_image_files, index=dev_image_ids)\n",
    "dev_info.head()"
   ]
  },
  {
   "cell_type": "code",
   "execution_count": 61,
   "metadata": {},
   "outputs": [
    {
     "name": "stdout",
     "output_type": "stream",
     "text": [
      "                                                                url  \\\n",
      "id                                                                    \n",
      "141458d5ea8efeb5  https://lh3.googleusercontent.com/-4m6o2f6Nlak...   \n",
      "911537835469b33f  https://lh3.googleusercontent.com/-09xfnbuAtDY...   \n",
      "33c0a5a7700d0332  https://lh3.googleusercontent.com/-GI24slCQIEg...   \n",
      "733ad5c52f84aa24  https://lh3.googleusercontent.com/-F-5mmhdGioY...   \n",
      "ec62a6bbd55f6623  https://lh3.googleusercontent.com/-et1YvPrctzE...   \n",
      "8ceae9e04cdb88b0  https://lh3.googleusercontent.com/-VmzvmMuBzyU...   \n",
      "e23a3fc22e852c10  https://lh3.googleusercontent.com/-fF1cOJ9eahE...   \n",
      "c583b83628ef6ea2  https://lh3.googleusercontent.com/-70zKN8vZyos...   \n",
      "ccd3d5357e6b88c8  https://lh3.googleusercontent.com/-WwUIClOgYA8...   \n",
      "dd60650fdfac9585  https://lh3.googleusercontent.com/-Ow-stE1_4WY...   \n",
      "f4899f377d15c77b  https://lh3.googleusercontent.com/-2eD2_We3Yfk...   \n",
      "521bdb9157ff5490  https://lh3.googleusercontent.com/-cD0JAPvL6sQ...   \n",
      "1d4fb9a99010e3a9  https://lh3.googleusercontent.com/-QMXeBqTxBJY...   \n",
      "4236093b371bc565  https://lh3.googleusercontent.com/-TvhyomsSVQo...   \n",
      "64297276fa7d67a0  https://lh3.googleusercontent.com/-TB1Gz3mfHQ0...   \n",
      "319814275637e91b  https://lh3.googleusercontent.com/-65odIU1mfWw...   \n",
      "4d735a0a9a4c7e3b  https://lh3.googleusercontent.com/-b_9f5jgQw_c...   \n",
      "2bacaba45e86835f  https://lh3.googleusercontent.com/-6LZd0rjhF4k...   \n",
      "c54cb5b3692290b6  https://lh3.googleusercontent.com/-SAoNK77a46s...   \n",
      "59ca4df1ddb5f81f  https://lh3.googleusercontent.com/-2dQTKe9E0bQ...   \n",
      "c96e8006c15c566c  https://lh3.googleusercontent.com/-ObcHvl1dWf4...   \n",
      "500b13648bb4ae0c  https://lh3.googleusercontent.com/-K_s0bwsYcaY...   \n",
      "ac7d00f54958fdef  https://lh3.googleusercontent.com/-b7KkOmSbgXA...   \n",
      "747f9d922630d5f2  https://lh3.googleusercontent.com/-KuxiJOuc1Pw...   \n",
      "a7a00d09105bf231  https://lh3.googleusercontent.com/-cs7gx8nkGPE...   \n",
      "3096f4b9a351a6ec  https://lh3.googleusercontent.com/-Kd7RVIkJm9A...   \n",
      "b1e35487fdf383f8  http://lh3.ggpht.com/-SIiCo_TcsR0/TjWNHJmBuSI/...   \n",
      "37c1f21af5f173fd  https://lh3.googleusercontent.com/-CYiGdIK7-SE...   \n",
      "e6483810b3894170  https://lh3.googleusercontent.com/-Zig0k_YjoRM...   \n",
      "0b59260ed9d8cbb3  https://lh3.googleusercontent.com/-th2-2HV1psY...   \n",
      "...                                                             ...   \n",
      "baff99214c3f8138  https://lh3.googleusercontent.com/-0ICqBOwevBI...   \n",
      "37f7a83146e29fb1  https://lh3.googleusercontent.com/-JMA7w3uXB0w...   \n",
      "d8d8035f10391ba0  https://lh3.googleusercontent.com/-EXmjQYA2FMs...   \n",
      "66341a3284f52cf3  https://lh3.googleusercontent.com/-NGLv4Nu0kRY...   \n",
      "a04b13c92fdfed38  https://lh3.googleusercontent.com/-1ebpobQHGkc...   \n",
      "b30d571171eaf962  https://lh3.googleusercontent.com/---I-_Wm5sng...   \n",
      "7f023987be8b102d  https://lh3.googleusercontent.com/-8z4s4x1zcwI...   \n",
      "cb939f3d624de17e  https://lh3.googleusercontent.com/-EW7_88LKmgk...   \n",
      "cbc40c766c39690a  https://lh3.googleusercontent.com/-Ri-Z_7CTrCA...   \n",
      "853c4b95f1832d64  https://lh3.googleusercontent.com/-119Hv_ChvL0...   \n",
      "5a4adbf8e9697d16  https://lh3.googleusercontent.com/-Q6ri6zWU8NQ...   \n",
      "2d29e088d1f6061a  https://lh3.googleusercontent.com/-naEJXjjWc5s...   \n",
      "cb0fcdc1919d8370  https://lh3.googleusercontent.com/-roxUBQ5BPTw...   \n",
      "c5c7faccd1656e6c  https://lh3.googleusercontent.com/-8PMJTPD5Ynw...   \n",
      "b4bf367905d83199  https://lh3.googleusercontent.com/-Mb0Rjn8JYY0...   \n",
      "c2978830be3319da  https://lh3.googleusercontent.com/-raaAvQfJtkA...   \n",
      "1d262064d3d8fae8  https://lh3.googleusercontent.com/-KmfCsY1CcI8...   \n",
      "ad43a99a1d1d8914  https://lh3.googleusercontent.com/-bhXtdAcHFQs...   \n",
      "bf706d0778396f82  https://lh3.googleusercontent.com/-TXvbKcu_YgU...   \n",
      "76c4102d47073990  https://lh3.googleusercontent.com/-T3otN6Jx3Ak...   \n",
      "ea64c7aab2b6c7ba  https://lh3.googleusercontent.com/-YHAVjUReJOE...   \n",
      "ad8ce4b219eea225  https://lh3.googleusercontent.com/-TKHtBk0sGdQ...   \n",
      "1c8d11a97642639f  https://lh3.googleusercontent.com/-zoqoOVF6uuU...   \n",
      "fab824e0f3414493  https://lh3.googleusercontent.com/-OkWYqEudegU...   \n",
      "ef0bbde82d0c5cd4  https://lh3.googleusercontent.com/-86hNESkGIE0...   \n",
      "9db79513f60e889c  https://lh3.googleusercontent.com/-1V-4ifHsoMU...   \n",
      "c2552a88a175f478  https://lh3.googleusercontent.com/-V8yr4MF9lag...   \n",
      "cd1c0247d62973e6  https://lh3.googleusercontent.com/-Ug_x1pIsXiY...   \n",
      "00baaec612275e5c  https://lh3.googleusercontent.com/-Xm2zVxlUZcE...   \n",
      "e105e06c87f0c6a4  https://lh3.googleusercontent.com/-LNsckbQN2Xw...   \n",
      "\n",
      "                                                  filename  \n",
      "id                                                          \n",
      "141458d5ea8efeb5  ../data/images/test/141458d5ea8efeb5.jpg  \n",
      "911537835469b33f  ../data/images/test/911537835469b33f.jpg  \n",
      "33c0a5a7700d0332  ../data/images/test/33c0a5a7700d0332.jpg  \n",
      "733ad5c52f84aa24  ../data/images/test/733ad5c52f84aa24.jpg  \n",
      "ec62a6bbd55f6623  ../data/images/test/ec62a6bbd55f6623.jpg  \n",
      "8ceae9e04cdb88b0  ../data/images/test/8ceae9e04cdb88b0.jpg  \n",
      "e23a3fc22e852c10  ../data/images/test/e23a3fc22e852c10.jpg  \n",
      "c583b83628ef6ea2  ../data/images/test/c583b83628ef6ea2.jpg  \n",
      "ccd3d5357e6b88c8  ../data/images/test/ccd3d5357e6b88c8.jpg  \n",
      "dd60650fdfac9585  ../data/images/test/dd60650fdfac9585.jpg  \n",
      "f4899f377d15c77b  ../data/images/test/f4899f377d15c77b.jpg  \n",
      "521bdb9157ff5490  ../data/images/test/521bdb9157ff5490.jpg  \n",
      "1d4fb9a99010e3a9  ../data/images/test/1d4fb9a99010e3a9.jpg  \n",
      "4236093b371bc565  ../data/images/test/4236093b371bc565.jpg  \n",
      "64297276fa7d67a0  ../data/images/test/64297276fa7d67a0.jpg  \n",
      "319814275637e91b  ../data/images/test/319814275637e91b.jpg  \n",
      "4d735a0a9a4c7e3b  ../data/images/test/4d735a0a9a4c7e3b.jpg  \n",
      "2bacaba45e86835f  ../data/images/test/2bacaba45e86835f.jpg  \n",
      "c54cb5b3692290b6  ../data/images/test/c54cb5b3692290b6.jpg  \n",
      "59ca4df1ddb5f81f  ../data/images/test/59ca4df1ddb5f81f.jpg  \n",
      "c96e8006c15c566c  ../data/images/test/c96e8006c15c566c.jpg  \n",
      "500b13648bb4ae0c  ../data/images/test/500b13648bb4ae0c.jpg  \n",
      "ac7d00f54958fdef  ../data/images/test/ac7d00f54958fdef.jpg  \n",
      "747f9d922630d5f2  ../data/images/test/747f9d922630d5f2.jpg  \n",
      "a7a00d09105bf231  ../data/images/test/a7a00d09105bf231.jpg  \n",
      "3096f4b9a351a6ec  ../data/images/test/3096f4b9a351a6ec.jpg  \n",
      "b1e35487fdf383f8  ../data/images/test/b1e35487fdf383f8.jpg  \n",
      "37c1f21af5f173fd  ../data/images/test/37c1f21af5f173fd.jpg  \n",
      "e6483810b3894170  ../data/images/test/e6483810b3894170.jpg  \n",
      "0b59260ed9d8cbb3  ../data/images/test/0b59260ed9d8cbb3.jpg  \n",
      "...                                                    ...  \n",
      "baff99214c3f8138  ../data/images/test/baff99214c3f8138.jpg  \n",
      "37f7a83146e29fb1  ../data/images/test/37f7a83146e29fb1.jpg  \n",
      "d8d8035f10391ba0  ../data/images/test/d8d8035f10391ba0.jpg  \n",
      "66341a3284f52cf3  ../data/images/test/66341a3284f52cf3.jpg  \n",
      "a04b13c92fdfed38  ../data/images/test/a04b13c92fdfed38.jpg  \n",
      "b30d571171eaf962  ../data/images/test/b30d571171eaf962.jpg  \n",
      "7f023987be8b102d  ../data/images/test/7f023987be8b102d.jpg  \n",
      "cb939f3d624de17e  ../data/images/test/cb939f3d624de17e.jpg  \n",
      "cbc40c766c39690a  ../data/images/test/cbc40c766c39690a.jpg  \n",
      "853c4b95f1832d64  ../data/images/test/853c4b95f1832d64.jpg  \n",
      "5a4adbf8e9697d16  ../data/images/test/5a4adbf8e9697d16.jpg  \n",
      "2d29e088d1f6061a  ../data/images/test/2d29e088d1f6061a.jpg  \n",
      "cb0fcdc1919d8370  ../data/images/test/cb0fcdc1919d8370.jpg  \n",
      "c5c7faccd1656e6c  ../data/images/test/c5c7faccd1656e6c.jpg  \n",
      "b4bf367905d83199  ../data/images/test/b4bf367905d83199.jpg  \n",
      "c2978830be3319da  ../data/images/test/c2978830be3319da.jpg  \n",
      "1d262064d3d8fae8  ../data/images/test/1d262064d3d8fae8.jpg  \n",
      "ad43a99a1d1d8914  ../data/images/test/ad43a99a1d1d8914.jpg  \n",
      "bf706d0778396f82  ../data/images/test/bf706d0778396f82.jpg  \n",
      "76c4102d47073990  ../data/images/test/76c4102d47073990.jpg  \n",
      "ea64c7aab2b6c7ba  ../data/images/test/ea64c7aab2b6c7ba.jpg  \n",
      "ad8ce4b219eea225  ../data/images/test/ad8ce4b219eea225.jpg  \n",
      "1c8d11a97642639f  ../data/images/test/1c8d11a97642639f.jpg  \n",
      "fab824e0f3414493  ../data/images/test/fab824e0f3414493.jpg  \n",
      "ef0bbde82d0c5cd4  ../data/images/test/ef0bbde82d0c5cd4.jpg  \n",
      "9db79513f60e889c  ../data/images/test/9db79513f60e889c.jpg  \n",
      "c2552a88a175f478  ../data/images/test/c2552a88a175f478.jpg  \n",
      "cd1c0247d62973e6  ../data/images/test/cd1c0247d62973e6.jpg  \n",
      "00baaec612275e5c  ../data/images/test/00baaec612275e5c.jpg  \n",
      "e105e06c87f0c6a4  ../data/images/test/e105e06c87f0c6a4.jpg  \n",
      "\n",
      "[112821 rows x 2 columns]\n"
     ]
    }
   ],
   "source": [
    "if not basic_version:\n",
    "    test_info_full = pd.read_csv('../data/test.csv', index_col='id')\n",
    "\n",
    "    test_image_files = glob.glob(test_path + '*.jpg')\n",
    "    test_image_ids = [image_file.replace(\n",
    "        '.jpg', '').replace(test_path, '') for image_file in test_image_files]\n",
    "\n",
    "    test_info = test_info_full.loc[test_image_ids]\n",
    "    test_info['filename'] = pd.Series(test_image_files, index=test_image_ids)\n",
    "\n",
    "print(test_info)"
   ]
  },
  {
   "cell_type": "code",
   "execution_count": 35,
   "metadata": {},
   "outputs": [
    {
     "name": "stdout",
     "output_type": "stream",
     "text": [
      "Landmark_id of image ../data/images/train-subset/beef63d6a6236b9d.jpg : 9779\n",
      "9779\n"
     ]
    },
    {
     "data": {
      "text/plain": [
       "(1200, 1600, 3)"
      ]
     },
     "execution_count": 35,
     "metadata": {},
     "output_type": "execute_result"
    },
    {
     "data": {
      "image/png": "[encoded data removed]",
      "text/plain": [
       "<Figure size 432x288 with 1 Axes>"
      ]
     },
     "metadata": {
      "needs_background": "light"
     },
     "output_type": "display_data"
    }
   ],
   "source": [
    "print(\"Landmark_id of image\", train_image_files[0], \":\", \n",
    "      train_info.loc[train_image_ids[0]]['landmark_id'])\n",
    "print(train_info[\"landmark_id\"].max())\n",
    "testimg = cv2.cvtColor(cv2.imread(np.random.choice(train_image_files)), cv2.COLOR_BGR2RGB)\n",
    "plt.imshow(testimg)\n",
    "testimg.shape"
   ]
  },
  {
   "cell_type": "code",
   "execution_count": 36,
   "metadata": {
    "scrolled": false
   },
   "outputs": [],
   "source": [
    "label_encoder = LabelEncoder()\n",
    "one_hot_encoder = OneHotEncoder(sparse=True, n_values=n_cat)\n",
    "\n",
    "train_info['label'] = label_encoder.fit_transform(train_info['landmark_id'].values)\n",
    "train_info['one_hot'] = one_hot_encoder.fit_transform(\n",
    "                    train_info['label'].values.reshape(-1, 1))"
   ]
  },
  {
   "cell_type": "markdown",
   "metadata": {},
   "source": [
    "### Image i/o and image data augmentation\n",
    "\n",
    "Standard keras image augmentation is used and in addition random crops (with slighter additional augmentation) are scaled to full resolution. Since the original images have a higher resolution than this model, the crops will contain additional information."
   ]
  },
  {
   "cell_type": "code",
   "execution_count": 37,
   "metadata": {},
   "outputs": [],
   "source": [
    "def load_images(info, input_shape = input_shape):\n",
    "    input_shape = tuple(input_shape)\n",
    "    imgs = np.zeros((len(info), input_shape[0], input_shape[1], 3))\n",
    "\n",
    "    for i in range(len(info)):\n",
    "        fname = info.iloc[i]['filename']\n",
    "        try:\n",
    "            img = cv2.cvtColor(\n",
    "                  cv2.resize(cv2.imread(fname),input_shape),\n",
    "                  cv2.COLOR_BGR2RGB)\n",
    "        except:\n",
    "            warnings.warn('Warning: could not read image: '+ fname +\n",
    "                          '. Use black img instead.')\n",
    "            img = np.zeros((input_shape[0], input_shape[1], 3))\n",
    "        imgs[i,:,:,:] = img\n",
    "    \n",
    "    return imgs"
   ]
  },
  {
   "cell_type": "code",
   "execution_count": 38,
   "metadata": {},
   "outputs": [],
   "source": [
    "def load_cropped_images(info, crop_p=0.2, crop='random'):\n",
    "    new_res = np.array([int(input_shape[0]*(1+crop_p)), int(input_shape[1]*(1+crop_p))])\n",
    "    if crop == 'random':\n",
    "        cx0 = np.random.randint(new_res[0] - input_shape[0], size=len(info))\n",
    "        cy0 = np.random.randint(new_res[1] - input_shape[1], size=len(info))\n",
    "    else:\n",
    "        if crop == 'central':\n",
    "            cx0, cy0 = (new_res - input_shape) // 2                \n",
    "        if crop == 'upper left':\n",
    "            cx0, cy0 = 0, 0\n",
    "        if crop == 'upper right':\n",
    "            cx0, cy0 = new_res[1] - input_shape[1], 0\n",
    "        if crop == 'lower left':\n",
    "            cx0, cy0 = 0, new_res[0] - input_shape[0]\n",
    "        if crop=='lower right':\n",
    "            cx0, cy0 = new_res - input_shape        \n",
    "        cx0 = np.repeat(np.expand_dims(cx0, 0), len(info))\n",
    "        cy0 = np.repeat(np.expand_dims(cy0, 0), len(info))\n",
    "\n",
    "    cx1 = cx0 + input_shape[0]\n",
    "    cy1 = cy0 + input_shape[1]\n",
    "    \n",
    "    raw_imgs = load_images(info, input_shape=tuple(new_res))\n",
    "    \n",
    "    cropped_imgs = np.zeros((len(info), input_shape[0], input_shape[1], 3))\n",
    "    for ind in range(len(info)):\n",
    "        cropped_imgs[ind,:,:,:] = raw_imgs[ind,\n",
    "                                           cy0[ind]:cy1[ind],\n",
    "                                           cx0[ind]:cx1[ind], :]\n",
    "    \n",
    "    return cropped_imgs"
   ]
  },
  {
   "cell_type": "markdown",
   "metadata": {},
   "source": [
    "Create the image data generator which is used for training"
   ]
  },
  {
   "cell_type": "code",
   "execution_count": 39,
   "metadata": {},
   "outputs": [],
   "source": [
    "def get_image_gen(info_arg, \n",
    "                  shuffle=True, \n",
    "                  image_aug=True, \n",
    "                  eq_dist=False, \n",
    "                  n_ref_imgs=16, \n",
    "                  crop_prob=0.5, \n",
    "                  crop_p=0.5):\n",
    "    if image_aug:\n",
    "        datagen = ImageDataGenerator(\n",
    "            rotation_range=4.,\n",
    "            width_shift_range=0.2,\n",
    "            height_shift_range=0.2,\n",
    "            shear_range=0.2,\n",
    "            zoom_range=0.5,\n",
    "            channel_shift_range=25,\n",
    "            horizontal_flip=True,\n",
    "            fill_mode='nearest')\n",
    "        \n",
    "        if crop_prob > 0:\n",
    "            datagen_crop = ImageDataGenerator(\n",
    "                rotation_range=4.,\n",
    "                shear_range=0.2,\n",
    "                zoom_range=0.1,\n",
    "                channel_shift_range=20,\n",
    "                horizontal_flip=True,\n",
    "                fill_mode='nearest')\n",
    "        \n",
    "    count = len(info_arg)\n",
    "    while True:\n",
    "        if eq_dist:\n",
    "            def sample(df):\n",
    "                return df.sample(min(n_ref_imgs, len(df)))\n",
    "            info = info_arg.groupby('landmark_id', group_keys=False).apply(sample)\n",
    "        else:\n",
    "            info = info_arg\n",
    "        print('Generate', len(info), 'for the next round.')\n",
    "        \n",
    "        #shuffle data\n",
    "        if shuffle and count >= len(info):\n",
    "            info = info.sample(frac=1)\n",
    "            count = 0\n",
    "            \n",
    "        # load images\n",
    "        for ind in range(0,len(info), batch_size):\n",
    "            count += batch_size\n",
    "\n",
    "            y = info['landmark_id'].values[ind:(ind+batch_size)]\n",
    "            \n",
    "            if np.random.rand() < crop_prob:\n",
    "                imgs = load_cropped_images(info.iloc[ind:(ind+batch_size)], \n",
    "                                           crop_p=crop_p*np.random.rand() + 0.01, \n",
    "                                           crop='random')\n",
    "                if image_aug:\n",
    "                    cflow = datagen_crop.flow(imgs, \n",
    "                                              y, \n",
    "                                              batch_size=imgs.shape[0], \n",
    "                                              shuffle=False)\n",
    "                    imgs, y = next(cflow)                    \n",
    "            else:\n",
    "                imgs = load_images(info.iloc[ind:(ind+batch_size)])\n",
    "                if image_aug:\n",
    "                    cflow = datagen.flow(imgs, \n",
    "                                       y, \n",
    "                                       batch_size=imgs.shape[0], \n",
    "                                       shuffle=False)\n",
    "                    imgs, y = next(cflow)             \n",
    "\n",
    "            imgs = preprocess_input(imgs)\n",
    "    \n",
    "            y_l = label_encoder.transform(y[y>=0.])        \n",
    "            y_oh = np.zeros((len(y), n_cat))\n",
    "            y_oh[y >= 0., :] = one_hot_encoder.transform(y_l.reshape(-1,1)).todense()\n",
    "                    \n",
    "            yield imgs, y_oh\n",
    "if basic_version:\n",
    "    train_gen = get_image_gen(pd.concat([train_info]), \n",
    "                              eq_dist=False, \n",
    "                              n_ref_imgs=256, \n",
    "                              crop_prob=0.5, \n",
    "                              crop_p=0.5)\n",
    "else:\n",
    "    train_gen = get_image_gen(pd.concat([train_info, nlm_df]), \n",
    "                              eq_dist=False, \n",
    "                              n_ref_imgs=256, \n",
    "                              crop_prob=0.5, \n",
    "                              crop_p=0.5)\n",
    "\n"
   ]
  },
  {
   "cell_type": "markdown",
   "metadata": {},
   "source": [
    "Show an example image"
   ]
  },
  {
   "cell_type": "markdown",
   "metadata": {},
   "source": [
    "#### The NN model\n",
    "\n",
    "Let's build the actual model!"
   ]
  },
  {
   "cell_type": "code",
   "execution_count": 40,
   "metadata": {},
   "outputs": [],
   "source": [
    "K.clear_session()"
   ]
  },
  {
   "cell_type": "code",
   "execution_count": 41,
   "metadata": {},
   "outputs": [],
   "source": [
    "x_model = Xception(input_shape=list(input_shape) + [3], \n",
    "                   weights='imagenet', \n",
    "                   include_top=False)"
   ]
  },
  {
   "cell_type": "markdown",
   "metadata": {},
   "source": [
    "#### Finetuning\n",
    "\n",
    "I started with a fully frozen model, then I included various additional layers. I found that freezing layers `1:85` resulted in quite efficient training, but I have trained the layers between 25 and 85 also for a few epochs."
   ]
  },
  {
   "cell_type": "code",
   "execution_count": 42,
   "metadata": {
    "scrolled": true
   },
   "outputs": [],
   "source": [
    "for layer in x_model.layers:\n",
    "    layer.trainable = True\n",
    "\n",
    "for layer in x_model.layers[:85]:\n",
    "    layer.trainable = False   \n",
    "    "
   ]
  },
  {
   "cell_type": "markdown",
   "metadata": {},
   "source": [
    "#### Generalized mean pool"
   ]
  },
  {
   "cell_type": "code",
   "execution_count": 43,
   "metadata": {},
   "outputs": [],
   "source": [
    "gm_exp = tf.Variable(3., dtype=tf.float32)\n",
    "def generalized_mean_pool_2d(X):\n",
    "    pool = (tf.reduce_mean(tf.abs(X**(gm_exp)), \n",
    "                           axis=[1,2], \n",
    "                           keepdims=False)+1.e-8)**(1./gm_exp)\n",
    "    return pool"
   ]
  },
  {
   "cell_type": "markdown",
   "metadata": {},
   "source": [
    "#### The top model"
   ]
  },
  {
   "cell_type": "code",
   "execution_count": 44,
   "metadata": {},
   "outputs": [],
   "source": [
    "X_feat = Input(x_model.output_shape[1:])\n",
    "\n",
    "lambda_layer = Lambda(generalized_mean_pool_2d)\n",
    "lambda_layer.trainable_weights.extend([gm_exp])\n",
    "X = lambda_layer(X_feat)\n",
    "X = Dropout(0.05)(X)\n",
    "X = Activation('relu')(X)\n",
    "X = Dense(n_cat, activation='softmax')(X)\n",
    "\n",
    "top_model = Model(inputs=X_feat, outputs=X)\n"
   ]
  },
  {
   "cell_type": "code",
   "execution_count": 45,
   "metadata": {},
   "outputs": [
    {
     "name": "stdout",
     "output_type": "stream",
     "text": [
      "_________________________________________________________________\n",
      "Layer (type)                 Output Shape              Param #   \n",
      "=================================================================\n",
      "input_3 (InputLayer)         (None, 299, 299, 3)       0         \n",
      "_________________________________________________________________\n",
      "xception (Model)             (None, 10, 10, 2048)      20861480  \n",
      "_________________________________________________________________\n",
      "model_1 (Model)              (None, 5)                 10246     \n",
      "=================================================================\n",
      "Total params: 20,871,726\n",
      "Trainable params: 11,640,558\n",
      "Non-trainable params: 9,231,168\n",
      "_________________________________________________________________\n"
     ]
    }
   ],
   "source": [
    "X_image = Input(list(input_shape) + [3])\n",
    "\n",
    "X_f = x_model(X_image)\n",
    "X_f = top_model(X_f)\n",
    "\n",
    "model = Model(inputs=X_image, outputs=X_f)\n",
    "model.summary()"
   ]
  },
  {
   "cell_type": "markdown",
   "metadata": {},
   "source": [
    "#### Custom loss function\n",
    "\n",
    "Individual losses are reweighted on each batch, but each output neuron will still always see a binary cross-entropy loss. In other words, the learning rate is simply higher for the most confident predictions."
   ]
  },
  {
   "cell_type": "code",
   "execution_count": 46,
   "metadata": {},
   "outputs": [],
   "source": [
    "def get_custom_loss(rank_weight=1., epsilon=1.e-9):\n",
    "    def custom_loss(y_t, y_p):\n",
    "        losses = tf.reduce_sum(-y_t*tf.log(y_p+epsilon) - (1.-y_t)*tf.log(1.-y_p+epsilon), \n",
    "                               axis=-1)\n",
    "        \n",
    "        pred_idx = tf.argmax(y_p, axis=-1)\n",
    "        \n",
    "        mask = tf.one_hot(pred_idx, \n",
    "                          depth=y_p.shape[1], \n",
    "                          dtype=tf.bool, \n",
    "                          on_value=True, \n",
    "                          off_value=False)\n",
    "        pred_cat = tf.boolean_mask(y_p, mask)\n",
    "        y_t_cat = tf.boolean_mask(y_t, mask)\n",
    "        \n",
    "        n_pred = tf.shape(pred_cat)[0]\n",
    "        _, ranks = tf.nn.top_k(pred_cat, k=n_pred)\n",
    "        \n",
    "        ranks = tf.cast(n_pred-ranks, tf.float32)/tf.cast(n_pred, tf.float32)*rank_weight\n",
    "        rank_losses = ranks*(-y_t_cat*tf.log(pred_cat+epsilon)\n",
    "                             -(1.-y_t_cat)*tf.log(1.-pred_cat+epsilon))        \n",
    "        \n",
    "        return rank_losses + losses\n",
    "    return custom_loss"
   ]
  },
  {
   "cell_type": "markdown",
   "metadata": {},
   "source": [
    "#### Additional metric\n",
    "\n",
    "The GAP is estimated by calculating it on each batch during training."
   ]
  },
  {
   "cell_type": "code",
   "execution_count": 47,
   "metadata": {},
   "outputs": [],
   "source": [
    "def batch_GAP(y_t, y_p):\n",
    "    pred_cat = tf.argmax(y_p, axis=-1)    \n",
    "    y_t_cat = tf.argmax(y_t, axis=-1) * tf.cast(\n",
    "        tf.reduce_sum(y_t, axis=-1), tf.int64)\n",
    "    \n",
    "    n_pred = tf.shape(pred_cat)[0]\n",
    "    is_c = tf.cast(tf.equal(pred_cat, y_t_cat), tf.float32)\n",
    "\n",
    "    GAP = tf.reduce_mean(\n",
    "          tf.cumsum(is_c) * is_c / tf.cast(\n",
    "              tf.range(1, n_pred + 1), \n",
    "              dtype=tf.float32))\n",
    "    \n",
    "    return GAP"
   ]
  },
  {
   "cell_type": "markdown",
   "metadata": {},
   "source": [
    "This is just a reweighting to yield larger numbers for the loss.."
   ]
  },
  {
   "cell_type": "code",
   "execution_count": 48,
   "metadata": {},
   "outputs": [],
   "source": [
    "def binary_crossentropy_n_cat(y_t, y_p):\n",
    "    return keras.metrics.binary_crossentropy(y_t, y_p) * n_cat"
   ]
  },
  {
   "cell_type": "markdown",
   "metadata": {},
   "source": [
    "#### Training\n",
    "\n",
    "I manually decreased the learning rate during training, starting at about 0.001 for training the `top_model` (on a larger `batch_size` of 128 or so)."
   ]
  },
  {
   "cell_type": "code",
   "execution_count": 49,
   "metadata": {},
   "outputs": [],
   "source": [
    "opt = Adam(lr=0.0001)\n",
    "loss = get_custom_loss(1.0)\n",
    "#loss='categorical_crossentropy'\n",
    "#loss='binary_crossentropy'\n",
    "model.compile(loss=loss, \n",
    "              optimizer=opt, \n",
    "              metrics=[binary_crossentropy_n_cat, 'accuracy', batch_GAP])"
   ]
  },
  {
   "cell_type": "code",
   "execution_count": 50,
   "metadata": {},
   "outputs": [],
   "source": [
    "checkpoint1 = ModelCheckpoint('dd_checkpoint-1.h5', \n",
    "                              period=1, \n",
    "                              verbose=1, \n",
    "                              save_weights_only=True)\n",
    "checkpoint2 = ModelCheckpoint('dd_checkpoint-2.h5', \n",
    "                              period=1, \n",
    "                              verbose=1, \n",
    "                              save_weights_only=True)\n",
    "checkpoint3 = ModelCheckpoint('dd_checkpoint-3-best.h5', \n",
    "                              period=1, \n",
    "                              verbose=1, \n",
    "                              monitor='loss', \n",
    "                              save_best_only=True, \n",
    "                              save_weights_only=True)"
   ]
  },
  {
   "cell_type": "code",
   "execution_count": 51,
   "metadata": {},
   "outputs": [],
   "source": [
    "K.set_value(model.optimizer.lr, 3e-5) # 0.0000003"
   ]
  },
  {
   "cell_type": "markdown",
   "metadata": {},
   "source": [
    "#### Training"
   ]
  },
  {
   "cell_type": "code",
   "execution_count": 52,
   "metadata": {
    "scrolled": true
   },
   "outputs": [
    {
     "name": "stdout",
     "output_type": "stream",
     "text": [
      "Epoch 1/20\n",
      "Generate 2469 for the next round.\n",
      "10/19 [==============>...............] - ETA: 1:57 - loss: 2.9524 - binary_crossentropy_n_cat: 2.6329 - acc: 0.2500 - batch_GAP: 0.0788"
     ]
    },
    {
     "ename": "KeyboardInterrupt",
     "evalue": "",
     "output_type": "error",
     "traceback": [
      "\u001b[0;31m---------------------------------------------------------------------------\u001b[0m",
      "\u001b[0;31mKeyboardInterrupt\u001b[0m                         Traceback (most recent call last)",
      "\u001b[0;32m<ipython-input-52-b47b7f8146f5>\u001b[0m in \u001b[0;36m<module>\u001b[0;34m\u001b[0m\n\u001b[1;32m      2\u001b[0m                     \u001b[0msteps_per_epoch\u001b[0m\u001b[0;34m=\u001b[0m\u001b[0mlen\u001b[0m\u001b[0;34m(\u001b[0m\u001b[0mtrain_info\u001b[0m\u001b[0;34m)\u001b[0m \u001b[0;34m/\u001b[0m \u001b[0mbatch_size\u001b[0m \u001b[0;34m/\u001b[0m \u001b[0;36m8\u001b[0m\u001b[0;34m,\u001b[0m\u001b[0;34m\u001b[0m\u001b[0;34m\u001b[0m\u001b[0m\n\u001b[1;32m      3\u001b[0m                     \u001b[0mepochs\u001b[0m\u001b[0;34m=\u001b[0m\u001b[0;36m20\u001b[0m\u001b[0;34m,\u001b[0m \u001b[0;31m#Heidi: changed from 50\u001b[0m\u001b[0;34m\u001b[0m\u001b[0;34m\u001b[0m\u001b[0m\n\u001b[0;32m----> 4\u001b[0;31m                     callbacks=[checkpoint1, checkpoint2, checkpoint3])\n\u001b[0m",
      "\u001b[0;32m~/miniconda3/envs/landmark/lib/python3.6/site-packages/keras/legacy/interfaces.py\u001b[0m in \u001b[0;36mwrapper\u001b[0;34m(*args, **kwargs)\u001b[0m\n\u001b[1;32m     89\u001b[0m                 warnings.warn('Update your `' + object_name + '` call to the ' +\n\u001b[1;32m     90\u001b[0m                               'Keras 2 API: ' + signature, stacklevel=2)\n\u001b[0;32m---> 91\u001b[0;31m             \u001b[0;32mreturn\u001b[0m \u001b[0mfunc\u001b[0m\u001b[0;34m(\u001b[0m\u001b[0;34m*\u001b[0m\u001b[0margs\u001b[0m\u001b[0;34m,\u001b[0m \u001b[0;34m**\u001b[0m\u001b[0mkwargs\u001b[0m\u001b[0;34m)\u001b[0m\u001b[0;34m\u001b[0m\u001b[0;34m\u001b[0m\u001b[0m\n\u001b[0m\u001b[1;32m     92\u001b[0m         \u001b[0mwrapper\u001b[0m\u001b[0;34m.\u001b[0m\u001b[0m_original_function\u001b[0m \u001b[0;34m=\u001b[0m \u001b[0mfunc\u001b[0m\u001b[0;34m\u001b[0m\u001b[0;34m\u001b[0m\u001b[0m\n\u001b[1;32m     93\u001b[0m         \u001b[0;32mreturn\u001b[0m \u001b[0mwrapper\u001b[0m\u001b[0;34m\u001b[0m\u001b[0;34m\u001b[0m\u001b[0m\n",
      "\u001b[0;32m~/miniconda3/envs/landmark/lib/python3.6/site-packages/keras/engine/training.py\u001b[0m in \u001b[0;36mfit_generator\u001b[0;34m(self, generator, steps_per_epoch, epochs, verbose, callbacks, validation_data, validation_steps, class_weight, max_queue_size, workers, use_multiprocessing, shuffle, initial_epoch)\u001b[0m\n\u001b[1;32m   1416\u001b[0m             \u001b[0muse_multiprocessing\u001b[0m\u001b[0;34m=\u001b[0m\u001b[0muse_multiprocessing\u001b[0m\u001b[0;34m,\u001b[0m\u001b[0;34m\u001b[0m\u001b[0;34m\u001b[0m\u001b[0m\n\u001b[1;32m   1417\u001b[0m             \u001b[0mshuffle\u001b[0m\u001b[0;34m=\u001b[0m\u001b[0mshuffle\u001b[0m\u001b[0;34m,\u001b[0m\u001b[0;34m\u001b[0m\u001b[0;34m\u001b[0m\u001b[0m\n\u001b[0;32m-> 1418\u001b[0;31m             initial_epoch=initial_epoch)\n\u001b[0m\u001b[1;32m   1419\u001b[0m \u001b[0;34m\u001b[0m\u001b[0m\n\u001b[1;32m   1420\u001b[0m     \u001b[0;34m@\u001b[0m\u001b[0minterfaces\u001b[0m\u001b[0;34m.\u001b[0m\u001b[0mlegacy_generator_methods_support\u001b[0m\u001b[0;34m\u001b[0m\u001b[0;34m\u001b[0m\u001b[0m\n",
      "\u001b[0;32m~/miniconda3/envs/landmark/lib/python3.6/site-packages/keras/engine/training_generator.py\u001b[0m in \u001b[0;36mfit_generator\u001b[0;34m(model, generator, steps_per_epoch, epochs, verbose, callbacks, validation_data, validation_steps, class_weight, max_queue_size, workers, use_multiprocessing, shuffle, initial_epoch)\u001b[0m\n\u001b[1;32m    215\u001b[0m                 outs = model.train_on_batch(x, y,\n\u001b[1;32m    216\u001b[0m                                             \u001b[0msample_weight\u001b[0m\u001b[0;34m=\u001b[0m\u001b[0msample_weight\u001b[0m\u001b[0;34m,\u001b[0m\u001b[0;34m\u001b[0m\u001b[0;34m\u001b[0m\u001b[0m\n\u001b[0;32m--> 217\u001b[0;31m                                             class_weight=class_weight)\n\u001b[0m\u001b[1;32m    218\u001b[0m \u001b[0;34m\u001b[0m\u001b[0m\n\u001b[1;32m    219\u001b[0m                 \u001b[0mouts\u001b[0m \u001b[0;34m=\u001b[0m \u001b[0mto_list\u001b[0m\u001b[0;34m(\u001b[0m\u001b[0mouts\u001b[0m\u001b[0;34m)\u001b[0m\u001b[0;34m\u001b[0m\u001b[0;34m\u001b[0m\u001b[0m\n",
      "\u001b[0;32m~/miniconda3/envs/landmark/lib/python3.6/site-packages/keras/engine/training.py\u001b[0m in \u001b[0;36mtrain_on_batch\u001b[0;34m(self, x, y, sample_weight, class_weight)\u001b[0m\n\u001b[1;32m   1215\u001b[0m             \u001b[0mins\u001b[0m \u001b[0;34m=\u001b[0m \u001b[0mx\u001b[0m \u001b[0;34m+\u001b[0m \u001b[0my\u001b[0m \u001b[0;34m+\u001b[0m \u001b[0msample_weights\u001b[0m\u001b[0;34m\u001b[0m\u001b[0;34m\u001b[0m\u001b[0m\n\u001b[1;32m   1216\u001b[0m         \u001b[0mself\u001b[0m\u001b[0;34m.\u001b[0m\u001b[0m_make_train_function\u001b[0m\u001b[0;34m(\u001b[0m\u001b[0;34m)\u001b[0m\u001b[0;34m\u001b[0m\u001b[0;34m\u001b[0m\u001b[0m\n\u001b[0;32m-> 1217\u001b[0;31m         \u001b[0moutputs\u001b[0m \u001b[0;34m=\u001b[0m \u001b[0mself\u001b[0m\u001b[0;34m.\u001b[0m\u001b[0mtrain_function\u001b[0m\u001b[0;34m(\u001b[0m\u001b[0mins\u001b[0m\u001b[0;34m)\u001b[0m\u001b[0;34m\u001b[0m\u001b[0;34m\u001b[0m\u001b[0m\n\u001b[0m\u001b[1;32m   1218\u001b[0m         \u001b[0;32mreturn\u001b[0m \u001b[0munpack_singleton\u001b[0m\u001b[0;34m(\u001b[0m\u001b[0moutputs\u001b[0m\u001b[0;34m)\u001b[0m\u001b[0;34m\u001b[0m\u001b[0;34m\u001b[0m\u001b[0m\n\u001b[1;32m   1219\u001b[0m \u001b[0;34m\u001b[0m\u001b[0m\n",
      "\u001b[0;32m~/miniconda3/envs/landmark/lib/python3.6/site-packages/keras/backend/tensorflow_backend.py\u001b[0m in \u001b[0;36m__call__\u001b[0;34m(self, inputs)\u001b[0m\n\u001b[1;32m   2713\u001b[0m                 \u001b[0;32mreturn\u001b[0m \u001b[0mself\u001b[0m\u001b[0;34m.\u001b[0m\u001b[0m_legacy_call\u001b[0m\u001b[0;34m(\u001b[0m\u001b[0minputs\u001b[0m\u001b[0;34m)\u001b[0m\u001b[0;34m\u001b[0m\u001b[0;34m\u001b[0m\u001b[0m\n\u001b[1;32m   2714\u001b[0m \u001b[0;34m\u001b[0m\u001b[0m\n\u001b[0;32m-> 2715\u001b[0;31m             \u001b[0;32mreturn\u001b[0m \u001b[0mself\u001b[0m\u001b[0;34m.\u001b[0m\u001b[0m_call\u001b[0m\u001b[0;34m(\u001b[0m\u001b[0minputs\u001b[0m\u001b[0;34m)\u001b[0m\u001b[0;34m\u001b[0m\u001b[0;34m\u001b[0m\u001b[0m\n\u001b[0m\u001b[1;32m   2716\u001b[0m         \u001b[0;32melse\u001b[0m\u001b[0;34m:\u001b[0m\u001b[0;34m\u001b[0m\u001b[0;34m\u001b[0m\u001b[0m\n\u001b[1;32m   2717\u001b[0m             \u001b[0;32mif\u001b[0m \u001b[0mpy_any\u001b[0m\u001b[0;34m(\u001b[0m\u001b[0mis_tensor\u001b[0m\u001b[0;34m(\u001b[0m\u001b[0mx\u001b[0m\u001b[0;34m)\u001b[0m \u001b[0;32mfor\u001b[0m \u001b[0mx\u001b[0m \u001b[0;32min\u001b[0m \u001b[0minputs\u001b[0m\u001b[0;34m)\u001b[0m\u001b[0;34m:\u001b[0m\u001b[0;34m\u001b[0m\u001b[0;34m\u001b[0m\u001b[0m\n",
      "\u001b[0;32m~/miniconda3/envs/landmark/lib/python3.6/site-packages/keras/backend/tensorflow_backend.py\u001b[0m in \u001b[0;36m_call\u001b[0;34m(self, inputs)\u001b[0m\n\u001b[1;32m   2673\u001b[0m             \u001b[0mfetched\u001b[0m \u001b[0;34m=\u001b[0m \u001b[0mself\u001b[0m\u001b[0;34m.\u001b[0m\u001b[0m_callable_fn\u001b[0m\u001b[0;34m(\u001b[0m\u001b[0;34m*\u001b[0m\u001b[0marray_vals\u001b[0m\u001b[0;34m,\u001b[0m \u001b[0mrun_metadata\u001b[0m\u001b[0;34m=\u001b[0m\u001b[0mself\u001b[0m\u001b[0;34m.\u001b[0m\u001b[0mrun_metadata\u001b[0m\u001b[0;34m)\u001b[0m\u001b[0;34m\u001b[0m\u001b[0;34m\u001b[0m\u001b[0m\n\u001b[1;32m   2674\u001b[0m         \u001b[0;32melse\u001b[0m\u001b[0;34m:\u001b[0m\u001b[0;34m\u001b[0m\u001b[0;34m\u001b[0m\u001b[0m\n\u001b[0;32m-> 2675\u001b[0;31m             \u001b[0mfetched\u001b[0m \u001b[0;34m=\u001b[0m \u001b[0mself\u001b[0m\u001b[0;34m.\u001b[0m\u001b[0m_callable_fn\u001b[0m\u001b[0;34m(\u001b[0m\u001b[0;34m*\u001b[0m\u001b[0marray_vals\u001b[0m\u001b[0;34m)\u001b[0m\u001b[0;34m\u001b[0m\u001b[0;34m\u001b[0m\u001b[0m\n\u001b[0m\u001b[1;32m   2676\u001b[0m         \u001b[0;32mreturn\u001b[0m \u001b[0mfetched\u001b[0m\u001b[0;34m[\u001b[0m\u001b[0;34m:\u001b[0m\u001b[0mlen\u001b[0m\u001b[0;34m(\u001b[0m\u001b[0mself\u001b[0m\u001b[0;34m.\u001b[0m\u001b[0moutputs\u001b[0m\u001b[0;34m)\u001b[0m\u001b[0;34m]\u001b[0m\u001b[0;34m\u001b[0m\u001b[0;34m\u001b[0m\u001b[0m\n\u001b[1;32m   2677\u001b[0m \u001b[0;34m\u001b[0m\u001b[0m\n",
      "\u001b[0;32m~/miniconda3/envs/landmark/lib/python3.6/site-packages/tensorflow/python/client/session.py\u001b[0m in \u001b[0;36m__call__\u001b[0;34m(self, *args, **kwargs)\u001b[0m\n\u001b[1;32m   1437\u001b[0m           ret = tf_session.TF_SessionRunCallable(\n\u001b[1;32m   1438\u001b[0m               \u001b[0mself\u001b[0m\u001b[0;34m.\u001b[0m\u001b[0m_session\u001b[0m\u001b[0;34m.\u001b[0m\u001b[0m_session\u001b[0m\u001b[0;34m,\u001b[0m \u001b[0mself\u001b[0m\u001b[0;34m.\u001b[0m\u001b[0m_handle\u001b[0m\u001b[0;34m,\u001b[0m \u001b[0margs\u001b[0m\u001b[0;34m,\u001b[0m \u001b[0mstatus\u001b[0m\u001b[0;34m,\u001b[0m\u001b[0;34m\u001b[0m\u001b[0;34m\u001b[0m\u001b[0m\n\u001b[0;32m-> 1439\u001b[0;31m               run_metadata_ptr)\n\u001b[0m\u001b[1;32m   1440\u001b[0m         \u001b[0;32mif\u001b[0m \u001b[0mrun_metadata\u001b[0m\u001b[0;34m:\u001b[0m\u001b[0;34m\u001b[0m\u001b[0;34m\u001b[0m\u001b[0m\n\u001b[1;32m   1441\u001b[0m           \u001b[0mproto_data\u001b[0m \u001b[0;34m=\u001b[0m \u001b[0mtf_session\u001b[0m\u001b[0;34m.\u001b[0m\u001b[0mTF_GetBuffer\u001b[0m\u001b[0;34m(\u001b[0m\u001b[0mrun_metadata_ptr\u001b[0m\u001b[0;34m)\u001b[0m\u001b[0;34m\u001b[0m\u001b[0;34m\u001b[0m\u001b[0m\n",
      "\u001b[0;31mKeyboardInterrupt\u001b[0m: "
     ]
    }
   ],
   "source": [
    "model.fit_generator(train_gen, \n",
    "                    steps_per_epoch=len(train_info) / batch_size / 8, \n",
    "                    epochs=20, #Heidi: changed from 50\n",
    "                    callbacks=[checkpoint1, checkpoint2, checkpoint3])"
   ]
  },
  {
   "cell_type": "code",
   "execution_count": 248,
   "metadata": {},
   "outputs": [],
   "source": [
    "model.save_weights('dd_1.h5')"
   ]
  },
  {
   "cell_type": "markdown",
   "metadata": {},
   "source": [
    "#### Some evaluations"
   ]
  },
  {
   "cell_type": "code",
   "execution_count": 249,
   "metadata": {},
   "outputs": [
    {
     "data": {
      "text/plain": [
       "3.0066729"
      ]
     },
     "execution_count": 249,
     "metadata": {},
     "output_type": "execute_result"
    }
   ],
   "source": [
    "K.eval(gm_exp)"
   ]
  },
  {
   "cell_type": "code",
   "execution_count": 250,
   "metadata": {},
   "outputs": [
    {
     "name": "stdout",
     "output_type": "stream",
     "text": [
      "[2.792286455631256, 2.3496851921081543, 2.01149325966835, 1.416637435555458, 1.2100563317537307, 0.9603161513805389, 0.8161785066127777, 0.7882533316473359, 0.6456409797072411, 0.642059751600027, 0.7646938741207123, 0.48798849806189537, 0.547413120418787, 0.5923281326889992, 0.3548925664275885, 0.4891789152398464, 0.39514388553798196, 0.4032143011689186, 0.41602119281888006, 0.34253474697470665]\n"
     ]
    }
   ],
   "source": [
    "print(model.history.history['loss'])"
   ]
  },
  {
   "cell_type": "code",
   "execution_count": 251,
   "metadata": {},
   "outputs": [
    {
     "data": {
      "text/plain": [
       "Text(0, 0.5, 'loss')"
      ]
     },
     "execution_count": 251,
     "metadata": {},
     "output_type": "execute_result"
    },
    {
     "data": {
      "image/png": "[encoded data removed]",
      "text/plain": [
       "<Figure size 432x288 with 1 Axes>"
      ]
     },
     "metadata": {
      "needs_background": "light"
     },
     "output_type": "display_data"
    }
   ],
   "source": [
    "plt.plot(model.history.history['loss'])\n",
    "plt.xlabel('epoch')\n",
    "plt.ylabel('loss')"
   ]
  },
  {
   "cell_type": "code",
   "execution_count": 252,
   "metadata": {},
   "outputs": [
    {
     "data": {
      "text/plain": [
       "Text(0, 0.5, 'batch_GAP')"
      ]
     },
     "execution_count": 252,
     "metadata": {},
     "output_type": "execute_result"
    },
    {
     "data": {
      "image/png": "[encoded data removed]",
      "text/plain": [
       "<Figure size 432x288 with 1 Axes>"
      ]
     },
     "metadata": {
      "needs_background": "light"
     },
     "output_type": "display_data"
    }
   ],
   "source": [
    "plt.plot(model.history.history['batch_GAP'])\n",
    "plt.xlabel('epoch')\n",
    "plt.ylabel('batch_GAP')"
   ]
  },
  {
   "cell_type": "code",
   "execution_count": 253,
   "metadata": {},
   "outputs": [
    {
     "data": {
      "text/plain": [
       "Text(0, 0.5, 'acc')"
      ]
     },
     "execution_count": 253,
     "metadata": {},
     "output_type": "execute_result"
    },
    {
     "data": {
      "image/png": "[encoded data removed]",
      "text/plain": [
       "<Figure size 432x288 with 1 Axes>"
      ]
     },
     "metadata": {
      "needs_background": "light"
     },
     "output_type": "display_data"
    }
   ],
   "source": [
    "plt.plot(model.history.history['acc'])\n",
    "plt.xlabel('epoch')\n",
    "plt.ylabel('acc')"
   ]
  },
  {
   "cell_type": "markdown",
   "metadata": {},
   "source": [
    "#### Validation and prediciton"
   ]
  },
  {
   "cell_type": "code",
   "execution_count": 62,
   "metadata": {},
   "outputs": [],
   "source": [
    "def predict(info, load_n_images=1024):\n",
    "    n = len(info)\n",
    "    max_p = np.zeros(n)\n",
    "    pred = np.zeros(n)\n",
    "    \n",
    "    for ind in range(0,len(info),load_n_images):\n",
    "        imgs = load_images(info.iloc[ind:(ind+load_n_images)])\n",
    "        imgs = preprocess_input(imgs)\n",
    "        proba = model.predict(imgs, batch_size=batch_size_predict)\n",
    "        \n",
    "        pred_i = np.argmax(proba, axis=1)\n",
    "        max_p[ind:(ind + load_n_images)] = proba[np.arange(len(pred_i)),pred_i]\n",
    "        pred[ind:(ind + load_n_images)] = label_encoder.inverse_transform(pred_i)\n",
    "        \n",
    "        print(ind, '/', len(info), '  -->', pred[ind], max_p[ind])\n",
    "\n",
    "    print(len(info), '/', len(info), '  -->', pred[-1], max_p[-1])\n",
    "    \n",
    "    return pred, max_p"
   ]
  },
  {
   "cell_type": "markdown",
   "metadata": {},
   "source": [
    "Ok, this is a version with 12 crops, for the competition I found that 22 crops with crop_p=0.05 and crop_p=0.15 worked even better."
   ]
  },
  {
   "cell_type": "code",
   "execution_count": 63,
   "metadata": {},
   "outputs": [],
   "source": [
    "def predict_wcr_vote(info, load_n_images=1024, crop_p=0.1, n_crops = 12):\n",
    "    n = len(info)\n",
    "    max_p = np.zeros(n)\n",
    "    pred = np.zeros(n)\n",
    "    \n",
    "    for ind in range(0,len(info),load_n_images):\n",
    "        all_proba = np.zeros((n_crops, min(load_n_images, len(info)-ind), n_cat))\n",
    "        \n",
    "        imgs = load_images(info.iloc[ind:(ind+load_n_images)])\n",
    "        imgs = preprocess_input(imgs)\n",
    "        \n",
    "        #full image\n",
    "        all_proba[0,:,:] = model.predict(imgs, batch_size=batch_size_predict)\n",
    "        all_proba[1,:,:] = model.predict(np.flip(imgs, axis=2), \n",
    "                                         batch_size=batch_size_predict)\n",
    "        \n",
    "        crops = ['upper left', 'lower left', 'upper right', 'lower right', 'central']\n",
    "        jnd_0 = 2\n",
    "        for jnd,crop in enumerate(crops):\n",
    "            imgs = load_cropped_images(info.iloc[ind:(ind+load_n_images)], \n",
    "                                  crop_p=crop_p, crop=crop)  # optimize later\n",
    "            imgs = preprocess_input(imgs)\n",
    "            all_proba[jnd_0+2*jnd,:,:] = model.predict(imgs, \n",
    "                                                       batch_size=batch_size_predict)\n",
    "            all_proba[jnd_0+2*jnd+1,:,:] = model.predict(np.flip(imgs, axis=2), \n",
    "                                                         batch_size=batch_size_predict)\n",
    "        \n",
    "        cmax_p = np.zeros((n_crops,imgs.shape[0]))\n",
    "        cpred = np.zeros((n_crops,imgs.shape[0]))\n",
    "        for jnd in range(all_proba.shape[0]):\n",
    "            proba = all_proba[jnd,:,:]\n",
    "            pred_i = np.argmax(proba, axis=1)\n",
    "            cmax_p[jnd,:] = proba[np.arange(len(pred_i)),pred_i]\n",
    "            cpred[jnd,:] = label_encoder.inverse_transform(pred_i)\n",
    "        \n",
    "        for knd in range(imgs.shape[0]):\n",
    "            c_res = pd.DataFrame({'max_cat':cpred[:,knd], 'max_p':cmax_p[:,knd]})\n",
    "            c_res = c_res.groupby('max_cat').aggregate('sum') / n_crops\n",
    "            pred[ind + knd]=c_res['max_p'].idxmax()\n",
    "            max_p[ind + knd]=c_res.loc[pred[ind + knd]]['max_p']\n",
    "                  \n",
    "        print(ind,'/',len(info), '  -->', pred[ind], max_p[ind])\n",
    "    print(len(info),'/',len(info), '  -->', pred[-1], max_p[-1])\n",
    "    \n",
    "    return pred, max_p"
   ]
  },
  {
   "cell_type": "code",
   "execution_count": 64,
   "metadata": {},
   "outputs": [],
   "source": [
    "def validate(info, load_n_images=1024, wcr=False, crop_p=0.1):\n",
    "    if wcr:\n",
    "        pred, max_p = predict_wcr_vote(info, load_n_images=load_n_images, crop_p=crop_p)\n",
    "    else:\n",
    "        pred, max_p = predict(info, load_n_images=load_n_images)\n",
    "    \n",
    "    y = info['landmark_id'].values\n",
    "    binary_acc = accuracy_score(y, pred)\n",
    "\n",
    "    sort_ind = np.argsort(max_p)[::-1]\n",
    "\n",
    "    pred = pred[sort_ind]\n",
    "    y_true = y[sort_ind]\n",
    "\n",
    "    GAP = np.sum(np.cumsum(pred == y_true) * (pred == y_true) / np.arange(1, len(y_true) + 1)) / np.sum(y_true >= 0.)\n",
    "\n",
    "    print(\"accuracy:\", binary_acc, \"\\n \")\n",
    "    print(\"*** GAP:\", GAP, \"***\")\n",
    "    \n",
    "    return binary_acc, GAP\n"
   ]
  },
  {
   "cell_type": "markdown",
   "metadata": {},
   "source": [
    "Validate only on landmark images"
   ]
  },
  {
   "cell_type": "code",
   "execution_count": 257,
   "metadata": {},
   "outputs": [
    {
     "name": "stdout",
     "output_type": "stream",
     "text": [
      "0 / 2469   --> 9779.0 0.9585930109024048\n",
      "50 / 2469   --> 2061.0 0.6989235877990723\n",
      "100 / 2469   --> 9779.0 0.9906184077262878\n",
      "150 / 2469   --> 9633.0 0.9990823268890381\n",
      "200 / 2469   --> 9633.0 0.9993185997009277\n"
     ]
    },
    {
     "ename": "KeyboardInterrupt",
     "evalue": "",
     "output_type": "error",
     "traceback": [
      "\u001b[0;31m---------------------------------------------------------------------------\u001b[0m",
      "\u001b[0;31mKeyboardInterrupt\u001b[0m                         Traceback (most recent call last)",
      "\u001b[0;32m<ipython-input-257-e78204990ea9>\u001b[0m in \u001b[0;36m<module>\u001b[0;34m\u001b[0m\n\u001b[0;32m----> 1\u001b[0;31m \u001b[0mdev_binary_acc\u001b[0m\u001b[0;34m,\u001b[0m \u001b[0mdev_GAP\u001b[0m \u001b[0;34m=\u001b[0m \u001b[0mvalidate\u001b[0m\u001b[0;34m(\u001b[0m\u001b[0mdev_info\u001b[0m\u001b[0;34m,\u001b[0m \u001b[0;36m50\u001b[0m\u001b[0;34m)\u001b[0m\u001b[0;34m\u001b[0m\u001b[0;34m\u001b[0m\u001b[0m\n\u001b[0m",
      "\u001b[0;32m<ipython-input-256-2b3dfbb1d6c5>\u001b[0m in \u001b[0;36mvalidate\u001b[0;34m(info, load_n_images, wcr, crop_p)\u001b[0m\n\u001b[1;32m      3\u001b[0m         \u001b[0mpred\u001b[0m\u001b[0;34m,\u001b[0m \u001b[0mmax_p\u001b[0m \u001b[0;34m=\u001b[0m \u001b[0mpredict_wcr_vote\u001b[0m\u001b[0;34m(\u001b[0m\u001b[0minfo\u001b[0m\u001b[0;34m,\u001b[0m \u001b[0mload_n_images\u001b[0m\u001b[0;34m=\u001b[0m\u001b[0mload_n_images\u001b[0m\u001b[0;34m,\u001b[0m \u001b[0mcrop_p\u001b[0m\u001b[0;34m=\u001b[0m\u001b[0mcrop_p\u001b[0m\u001b[0;34m)\u001b[0m\u001b[0;34m\u001b[0m\u001b[0;34m\u001b[0m\u001b[0m\n\u001b[1;32m      4\u001b[0m     \u001b[0;32melse\u001b[0m\u001b[0;34m:\u001b[0m\u001b[0;34m\u001b[0m\u001b[0;34m\u001b[0m\u001b[0m\n\u001b[0;32m----> 5\u001b[0;31m         \u001b[0mpred\u001b[0m\u001b[0;34m,\u001b[0m \u001b[0mmax_p\u001b[0m \u001b[0;34m=\u001b[0m \u001b[0mpredict\u001b[0m\u001b[0;34m(\u001b[0m\u001b[0minfo\u001b[0m\u001b[0;34m,\u001b[0m \u001b[0mload_n_images\u001b[0m\u001b[0;34m=\u001b[0m\u001b[0mload_n_images\u001b[0m\u001b[0;34m)\u001b[0m\u001b[0;34m\u001b[0m\u001b[0;34m\u001b[0m\u001b[0m\n\u001b[0m\u001b[1;32m      6\u001b[0m \u001b[0;34m\u001b[0m\u001b[0m\n\u001b[1;32m      7\u001b[0m     \u001b[0my\u001b[0m \u001b[0;34m=\u001b[0m \u001b[0minfo\u001b[0m\u001b[0;34m[\u001b[0m\u001b[0;34m'landmark_id'\u001b[0m\u001b[0;34m]\u001b[0m\u001b[0;34m.\u001b[0m\u001b[0mvalues\u001b[0m\u001b[0;34m\u001b[0m\u001b[0;34m\u001b[0m\u001b[0m\n",
      "\u001b[0;32m<ipython-input-254-61589f996696>\u001b[0m in \u001b[0;36mpredict\u001b[0;34m(info, load_n_images)\u001b[0m\n\u001b[1;32m      7\u001b[0m         \u001b[0mimgs\u001b[0m \u001b[0;34m=\u001b[0m \u001b[0mload_images\u001b[0m\u001b[0;34m(\u001b[0m\u001b[0minfo\u001b[0m\u001b[0;34m.\u001b[0m\u001b[0miloc\u001b[0m\u001b[0;34m[\u001b[0m\u001b[0mind\u001b[0m\u001b[0;34m:\u001b[0m\u001b[0;34m(\u001b[0m\u001b[0mind\u001b[0m\u001b[0;34m+\u001b[0m\u001b[0mload_n_images\u001b[0m\u001b[0;34m)\u001b[0m\u001b[0;34m]\u001b[0m\u001b[0;34m)\u001b[0m\u001b[0;34m\u001b[0m\u001b[0;34m\u001b[0m\u001b[0m\n\u001b[1;32m      8\u001b[0m         \u001b[0mimgs\u001b[0m \u001b[0;34m=\u001b[0m \u001b[0mpreprocess_input\u001b[0m\u001b[0;34m(\u001b[0m\u001b[0mimgs\u001b[0m\u001b[0;34m)\u001b[0m\u001b[0;34m\u001b[0m\u001b[0;34m\u001b[0m\u001b[0m\n\u001b[0;32m----> 9\u001b[0;31m         \u001b[0mproba\u001b[0m \u001b[0;34m=\u001b[0m \u001b[0mmodel\u001b[0m\u001b[0;34m.\u001b[0m\u001b[0mpredict\u001b[0m\u001b[0;34m(\u001b[0m\u001b[0mimgs\u001b[0m\u001b[0;34m,\u001b[0m \u001b[0mbatch_size\u001b[0m\u001b[0;34m=\u001b[0m\u001b[0mbatch_size_predict\u001b[0m\u001b[0;34m)\u001b[0m\u001b[0;34m\u001b[0m\u001b[0;34m\u001b[0m\u001b[0m\n\u001b[0m\u001b[1;32m     10\u001b[0m \u001b[0;34m\u001b[0m\u001b[0m\n\u001b[1;32m     11\u001b[0m         \u001b[0mpred_i\u001b[0m \u001b[0;34m=\u001b[0m \u001b[0mnp\u001b[0m\u001b[0;34m.\u001b[0m\u001b[0margmax\u001b[0m\u001b[0;34m(\u001b[0m\u001b[0mproba\u001b[0m\u001b[0;34m,\u001b[0m \u001b[0maxis\u001b[0m\u001b[0;34m=\u001b[0m\u001b[0;36m1\u001b[0m\u001b[0;34m)\u001b[0m\u001b[0;34m\u001b[0m\u001b[0;34m\u001b[0m\u001b[0m\n",
      "\u001b[0;32m~/miniconda3/envs/landmark/lib/python3.6/site-packages/keras/engine/training.py\u001b[0m in \u001b[0;36mpredict\u001b[0;34m(self, x, batch_size, verbose, steps)\u001b[0m\n\u001b[1;32m   1167\u001b[0m                                             \u001b[0mbatch_size\u001b[0m\u001b[0;34m=\u001b[0m\u001b[0mbatch_size\u001b[0m\u001b[0;34m,\u001b[0m\u001b[0;34m\u001b[0m\u001b[0;34m\u001b[0m\u001b[0m\n\u001b[1;32m   1168\u001b[0m                                             \u001b[0mverbose\u001b[0m\u001b[0;34m=\u001b[0m\u001b[0mverbose\u001b[0m\u001b[0;34m,\u001b[0m\u001b[0;34m\u001b[0m\u001b[0;34m\u001b[0m\u001b[0m\n\u001b[0;32m-> 1169\u001b[0;31m                                             steps=steps)\n\u001b[0m\u001b[1;32m   1170\u001b[0m \u001b[0;34m\u001b[0m\u001b[0m\n\u001b[1;32m   1171\u001b[0m     def train_on_batch(self, x, y,\n",
      "\u001b[0;32m~/miniconda3/envs/landmark/lib/python3.6/site-packages/keras/engine/training_arrays.py\u001b[0m in \u001b[0;36mpredict_loop\u001b[0;34m(model, f, ins, batch_size, verbose, steps)\u001b[0m\n\u001b[1;32m    292\u001b[0m                 \u001b[0mins_batch\u001b[0m\u001b[0;34m[\u001b[0m\u001b[0mi\u001b[0m\u001b[0;34m]\u001b[0m \u001b[0;34m=\u001b[0m \u001b[0mins_batch\u001b[0m\u001b[0;34m[\u001b[0m\u001b[0mi\u001b[0m\u001b[0;34m]\u001b[0m\u001b[0;34m.\u001b[0m\u001b[0mtoarray\u001b[0m\u001b[0;34m(\u001b[0m\u001b[0;34m)\u001b[0m\u001b[0;34m\u001b[0m\u001b[0;34m\u001b[0m\u001b[0m\n\u001b[1;32m    293\u001b[0m \u001b[0;34m\u001b[0m\u001b[0m\n\u001b[0;32m--> 294\u001b[0;31m             \u001b[0mbatch_outs\u001b[0m \u001b[0;34m=\u001b[0m \u001b[0mf\u001b[0m\u001b[0;34m(\u001b[0m\u001b[0mins_batch\u001b[0m\u001b[0;34m)\u001b[0m\u001b[0;34m\u001b[0m\u001b[0;34m\u001b[0m\u001b[0m\n\u001b[0m\u001b[1;32m    295\u001b[0m             \u001b[0mbatch_outs\u001b[0m \u001b[0;34m=\u001b[0m \u001b[0mto_list\u001b[0m\u001b[0;34m(\u001b[0m\u001b[0mbatch_outs\u001b[0m\u001b[0;34m)\u001b[0m\u001b[0;34m\u001b[0m\u001b[0;34m\u001b[0m\u001b[0m\n\u001b[1;32m    296\u001b[0m             \u001b[0;32mif\u001b[0m \u001b[0mbatch_index\u001b[0m \u001b[0;34m==\u001b[0m \u001b[0;36m0\u001b[0m\u001b[0;34m:\u001b[0m\u001b[0;34m\u001b[0m\u001b[0;34m\u001b[0m\u001b[0m\n",
      "\u001b[0;32m~/miniconda3/envs/landmark/lib/python3.6/site-packages/keras/backend/tensorflow_backend.py\u001b[0m in \u001b[0;36m__call__\u001b[0;34m(self, inputs)\u001b[0m\n\u001b[1;32m   2713\u001b[0m                 \u001b[0;32mreturn\u001b[0m \u001b[0mself\u001b[0m\u001b[0;34m.\u001b[0m\u001b[0m_legacy_call\u001b[0m\u001b[0;34m(\u001b[0m\u001b[0minputs\u001b[0m\u001b[0;34m)\u001b[0m\u001b[0;34m\u001b[0m\u001b[0;34m\u001b[0m\u001b[0m\n\u001b[1;32m   2714\u001b[0m \u001b[0;34m\u001b[0m\u001b[0m\n\u001b[0;32m-> 2715\u001b[0;31m             \u001b[0;32mreturn\u001b[0m \u001b[0mself\u001b[0m\u001b[0;34m.\u001b[0m\u001b[0m_call\u001b[0m\u001b[0;34m(\u001b[0m\u001b[0minputs\u001b[0m\u001b[0;34m)\u001b[0m\u001b[0;34m\u001b[0m\u001b[0;34m\u001b[0m\u001b[0m\n\u001b[0m\u001b[1;32m   2716\u001b[0m         \u001b[0;32melse\u001b[0m\u001b[0;34m:\u001b[0m\u001b[0;34m\u001b[0m\u001b[0;34m\u001b[0m\u001b[0m\n\u001b[1;32m   2717\u001b[0m             \u001b[0;32mif\u001b[0m \u001b[0mpy_any\u001b[0m\u001b[0;34m(\u001b[0m\u001b[0mis_tensor\u001b[0m\u001b[0;34m(\u001b[0m\u001b[0mx\u001b[0m\u001b[0;34m)\u001b[0m \u001b[0;32mfor\u001b[0m \u001b[0mx\u001b[0m \u001b[0;32min\u001b[0m \u001b[0minputs\u001b[0m\u001b[0;34m)\u001b[0m\u001b[0;34m:\u001b[0m\u001b[0;34m\u001b[0m\u001b[0;34m\u001b[0m\u001b[0m\n",
      "\u001b[0;32m~/miniconda3/envs/landmark/lib/python3.6/site-packages/keras/backend/tensorflow_backend.py\u001b[0m in \u001b[0;36m_call\u001b[0;34m(self, inputs)\u001b[0m\n\u001b[1;32m   2673\u001b[0m             \u001b[0mfetched\u001b[0m \u001b[0;34m=\u001b[0m \u001b[0mself\u001b[0m\u001b[0;34m.\u001b[0m\u001b[0m_callable_fn\u001b[0m\u001b[0;34m(\u001b[0m\u001b[0;34m*\u001b[0m\u001b[0marray_vals\u001b[0m\u001b[0;34m,\u001b[0m \u001b[0mrun_metadata\u001b[0m\u001b[0;34m=\u001b[0m\u001b[0mself\u001b[0m\u001b[0;34m.\u001b[0m\u001b[0mrun_metadata\u001b[0m\u001b[0;34m)\u001b[0m\u001b[0;34m\u001b[0m\u001b[0;34m\u001b[0m\u001b[0m\n\u001b[1;32m   2674\u001b[0m         \u001b[0;32melse\u001b[0m\u001b[0;34m:\u001b[0m\u001b[0;34m\u001b[0m\u001b[0;34m\u001b[0m\u001b[0m\n\u001b[0;32m-> 2675\u001b[0;31m             \u001b[0mfetched\u001b[0m \u001b[0;34m=\u001b[0m \u001b[0mself\u001b[0m\u001b[0;34m.\u001b[0m\u001b[0m_callable_fn\u001b[0m\u001b[0;34m(\u001b[0m\u001b[0;34m*\u001b[0m\u001b[0marray_vals\u001b[0m\u001b[0;34m)\u001b[0m\u001b[0;34m\u001b[0m\u001b[0;34m\u001b[0m\u001b[0m\n\u001b[0m\u001b[1;32m   2676\u001b[0m         \u001b[0;32mreturn\u001b[0m \u001b[0mfetched\u001b[0m\u001b[0;34m[\u001b[0m\u001b[0;34m:\u001b[0m\u001b[0mlen\u001b[0m\u001b[0;34m(\u001b[0m\u001b[0mself\u001b[0m\u001b[0;34m.\u001b[0m\u001b[0moutputs\u001b[0m\u001b[0;34m)\u001b[0m\u001b[0;34m]\u001b[0m\u001b[0;34m\u001b[0m\u001b[0;34m\u001b[0m\u001b[0m\n\u001b[1;32m   2677\u001b[0m \u001b[0;34m\u001b[0m\u001b[0m\n",
      "\u001b[0;32m~/miniconda3/envs/landmark/lib/python3.6/site-packages/tensorflow/python/client/session.py\u001b[0m in \u001b[0;36m__call__\u001b[0;34m(self, *args, **kwargs)\u001b[0m\n\u001b[1;32m   1437\u001b[0m           ret = tf_session.TF_SessionRunCallable(\n\u001b[1;32m   1438\u001b[0m               \u001b[0mself\u001b[0m\u001b[0;34m.\u001b[0m\u001b[0m_session\u001b[0m\u001b[0;34m.\u001b[0m\u001b[0m_session\u001b[0m\u001b[0;34m,\u001b[0m \u001b[0mself\u001b[0m\u001b[0;34m.\u001b[0m\u001b[0m_handle\u001b[0m\u001b[0;34m,\u001b[0m \u001b[0margs\u001b[0m\u001b[0;34m,\u001b[0m \u001b[0mstatus\u001b[0m\u001b[0;34m,\u001b[0m\u001b[0;34m\u001b[0m\u001b[0;34m\u001b[0m\u001b[0m\n\u001b[0;32m-> 1439\u001b[0;31m               run_metadata_ptr)\n\u001b[0m\u001b[1;32m   1440\u001b[0m         \u001b[0;32mif\u001b[0m \u001b[0mrun_metadata\u001b[0m\u001b[0;34m:\u001b[0m\u001b[0;34m\u001b[0m\u001b[0;34m\u001b[0m\u001b[0m\n\u001b[1;32m   1441\u001b[0m           \u001b[0mproto_data\u001b[0m \u001b[0;34m=\u001b[0m \u001b[0mtf_session\u001b[0m\u001b[0;34m.\u001b[0m\u001b[0mTF_GetBuffer\u001b[0m\u001b[0;34m(\u001b[0m\u001b[0mrun_metadata_ptr\u001b[0m\u001b[0;34m)\u001b[0m\u001b[0;34m\u001b[0m\u001b[0;34m\u001b[0m\u001b[0m\n",
      "\u001b[0;31mKeyboardInterrupt\u001b[0m: "
     ]
    }
   ],
   "source": [
    "dev_binary_acc, dev_GAP = validate(dev_info, 50)"
   ]
  },
  {
   "cell_type": "markdown",
   "metadata": {},
   "source": [
    "Validate on landmark and non-landmark images"
   ]
  },
  {
   "cell_type": "code",
   "execution_count": 123,
   "metadata": {},
   "outputs": [
    {
     "ename": "NameError",
     "evalue": "name 'nlm_dev_df' is not defined",
     "output_type": "error",
     "traceback": [
      "\u001b[1;31m---------------------------------------------------------------------------\u001b[0m",
      "\u001b[1;31mNameError\u001b[0m                                 Traceback (most recent call last)",
      "\u001b[1;32m<ipython-input-123-5b3bd1217226>\u001b[0m in \u001b[0;36m<module>\u001b[1;34m()\u001b[0m\n\u001b[1;32m----> 1\u001b[1;33m \u001b[0mdev_binary_acc\u001b[0m\u001b[1;33m,\u001b[0m \u001b[0mdev_GAP\u001b[0m \u001b[1;33m=\u001b[0m \u001b[0mvalidate\u001b[0m\u001b[1;33m(\u001b[0m\u001b[0mpd\u001b[0m\u001b[1;33m.\u001b[0m\u001b[0mconcat\u001b[0m\u001b[1;33m(\u001b[0m\u001b[1;33m[\u001b[0m\u001b[0mdev_info\u001b[0m\u001b[1;33m,\u001b[0m \u001b[0mnlm_dev_df\u001b[0m\u001b[1;33m]\u001b[0m\u001b[1;33m)\u001b[0m\u001b[1;33m.\u001b[0m\u001b[0msample\u001b[0m\u001b[1;33m(\u001b[0m\u001b[0mfrac\u001b[0m\u001b[1;33m=\u001b[0m\u001b[1;36m1\u001b[0m\u001b[1;33m)\u001b[0m\u001b[1;33m,\u001b[0m \u001b[1;36m1024\u001b[0m\u001b[1;33m)\u001b[0m\u001b[1;33m\u001b[0m\u001b[0m\n\u001b[0m",
      "\u001b[1;31mNameError\u001b[0m: name 'nlm_dev_df' is not defined"
     ]
    }
   ],
   "source": [
    "dev_binary_acc, dev_GAP = validate(pd.concat([dev_info, nlm_dev_df]).sample(frac=1), 1024)"
   ]
  },
  {
   "cell_type": "code",
   "execution_count": null,
   "metadata": {},
   "outputs": [],
   "source": [
    "dev_binary_acc_wcr, dev_GAP_wcr = validate(dev_info, 1024, wcr=True, crop_p=0.1)"
   ]
  },
  {
   "cell_type": "markdown",
   "metadata": {},
   "source": [
    "Some checks before actual prediction"
   ]
  },
  {
   "cell_type": "code",
   "execution_count": 65,
   "metadata": {},
   "outputs": [
    {
     "name": "stdout",
     "output_type": "stream",
     "text": [
      "112821\n"
     ]
    }
   ],
   "source": [
    "print(len(test_info))"
   ]
  },
  {
   "cell_type": "code",
   "execution_count": 66,
   "metadata": {},
   "outputs": [
    {
     "name": "stdout",
     "output_type": "stream",
     "text": [
      "0 / 10   --> 2061.0 0.5125163942575455\n",
      "10 / 10   --> 6051.0 0.2330869734287262\n"
     ]
    }
   ],
   "source": [
    "_, _ = predict_wcr_vote(test_info[:10], 512, crop_p=0.1)"
   ]
  },
  {
   "cell_type": "code",
   "execution_count": null,
   "metadata": {
    "collapsed": true,
    "scrolled": true
   },
   "outputs": [],
   "source": [
    "test_pred, test_max_p = predict(test_info, 1024)"
   ]
  },
  {
   "cell_type": "markdown",
   "metadata": {},
   "source": [
    "And predict!"
   ]
  },
  {
   "cell_type": "code",
   "execution_count": 67,
   "metadata": {},
   "outputs": [
    {
     "ename": "KeyboardInterrupt",
     "evalue": "",
     "output_type": "error",
     "traceback": [
      "\u001b[0;31m---------------------------------------------------------------------------\u001b[0m",
      "\u001b[0;31mKeyboardInterrupt\u001b[0m                         Traceback (most recent call last)",
      "\u001b[0;32m<ipython-input-67-d3372ba98c7e>\u001b[0m in \u001b[0;36m<module>\u001b[0;34m\u001b[0m\n\u001b[0;32m----> 1\u001b[0;31m \u001b[0mtest_pred\u001b[0m\u001b[0;34m,\u001b[0m \u001b[0mtest_max_p\u001b[0m \u001b[0;34m=\u001b[0m \u001b[0mpredict_wcr_vote\u001b[0m\u001b[0;34m(\u001b[0m\u001b[0mtest_info\u001b[0m\u001b[0;34m,\u001b[0m \u001b[0;36m512\u001b[0m\u001b[0;34m,\u001b[0m \u001b[0mcrop_p\u001b[0m\u001b[0;34m=\u001b[0m\u001b[0;36m0.1\u001b[0m\u001b[0;34m)\u001b[0m\u001b[0;34m\u001b[0m\u001b[0;34m\u001b[0m\u001b[0m\n\u001b[0m",
      "\u001b[0;32m<ipython-input-63-573b3c20fb21>\u001b[0m in \u001b[0;36mpredict_wcr_vote\u001b[0;34m(info, load_n_images, crop_p, n_crops)\u001b[0m\n\u001b[1;32m     11\u001b[0m \u001b[0;34m\u001b[0m\u001b[0m\n\u001b[1;32m     12\u001b[0m         \u001b[0;31m#full image\u001b[0m\u001b[0;34m\u001b[0m\u001b[0;34m\u001b[0m\u001b[0;34m\u001b[0m\u001b[0m\n\u001b[0;32m---> 13\u001b[0;31m         \u001b[0mall_proba\u001b[0m\u001b[0;34m[\u001b[0m\u001b[0;36m0\u001b[0m\u001b[0;34m,\u001b[0m\u001b[0;34m:\u001b[0m\u001b[0;34m,\u001b[0m\u001b[0;34m:\u001b[0m\u001b[0;34m]\u001b[0m \u001b[0;34m=\u001b[0m \u001b[0mmodel\u001b[0m\u001b[0;34m.\u001b[0m\u001b[0mpredict\u001b[0m\u001b[0;34m(\u001b[0m\u001b[0mimgs\u001b[0m\u001b[0;34m,\u001b[0m \u001b[0mbatch_size\u001b[0m\u001b[0;34m=\u001b[0m\u001b[0mbatch_size_predict\u001b[0m\u001b[0;34m)\u001b[0m\u001b[0;34m\u001b[0m\u001b[0;34m\u001b[0m\u001b[0m\n\u001b[0m\u001b[1;32m     14\u001b[0m         all_proba[1,:,:] = model.predict(np.flip(imgs, axis=2), \n\u001b[1;32m     15\u001b[0m                                          batch_size=batch_size_predict)\n",
      "\u001b[0;32m~/miniconda3/envs/landmark/lib/python3.6/site-packages/keras/engine/training.py\u001b[0m in \u001b[0;36mpredict\u001b[0;34m(self, x, batch_size, verbose, steps)\u001b[0m\n\u001b[1;32m   1167\u001b[0m                                             \u001b[0mbatch_size\u001b[0m\u001b[0;34m=\u001b[0m\u001b[0mbatch_size\u001b[0m\u001b[0;34m,\u001b[0m\u001b[0;34m\u001b[0m\u001b[0;34m\u001b[0m\u001b[0m\n\u001b[1;32m   1168\u001b[0m                                             \u001b[0mverbose\u001b[0m\u001b[0;34m=\u001b[0m\u001b[0mverbose\u001b[0m\u001b[0;34m,\u001b[0m\u001b[0;34m\u001b[0m\u001b[0;34m\u001b[0m\u001b[0m\n\u001b[0;32m-> 1169\u001b[0;31m                                             steps=steps)\n\u001b[0m\u001b[1;32m   1170\u001b[0m \u001b[0;34m\u001b[0m\u001b[0m\n\u001b[1;32m   1171\u001b[0m     def train_on_batch(self, x, y,\n",
      "\u001b[0;32m~/miniconda3/envs/landmark/lib/python3.6/site-packages/keras/engine/training_arrays.py\u001b[0m in \u001b[0;36mpredict_loop\u001b[0;34m(model, f, ins, batch_size, verbose, steps)\u001b[0m\n\u001b[1;32m    292\u001b[0m                 \u001b[0mins_batch\u001b[0m\u001b[0;34m[\u001b[0m\u001b[0mi\u001b[0m\u001b[0;34m]\u001b[0m \u001b[0;34m=\u001b[0m \u001b[0mins_batch\u001b[0m\u001b[0;34m[\u001b[0m\u001b[0mi\u001b[0m\u001b[0;34m]\u001b[0m\u001b[0;34m.\u001b[0m\u001b[0mtoarray\u001b[0m\u001b[0;34m(\u001b[0m\u001b[0;34m)\u001b[0m\u001b[0;34m\u001b[0m\u001b[0;34m\u001b[0m\u001b[0m\n\u001b[1;32m    293\u001b[0m \u001b[0;34m\u001b[0m\u001b[0m\n\u001b[0;32m--> 294\u001b[0;31m             \u001b[0mbatch_outs\u001b[0m \u001b[0;34m=\u001b[0m \u001b[0mf\u001b[0m\u001b[0;34m(\u001b[0m\u001b[0mins_batch\u001b[0m\u001b[0;34m)\u001b[0m\u001b[0;34m\u001b[0m\u001b[0;34m\u001b[0m\u001b[0m\n\u001b[0m\u001b[1;32m    295\u001b[0m             \u001b[0mbatch_outs\u001b[0m \u001b[0;34m=\u001b[0m \u001b[0mto_list\u001b[0m\u001b[0;34m(\u001b[0m\u001b[0mbatch_outs\u001b[0m\u001b[0;34m)\u001b[0m\u001b[0;34m\u001b[0m\u001b[0;34m\u001b[0m\u001b[0m\n\u001b[1;32m    296\u001b[0m             \u001b[0;32mif\u001b[0m \u001b[0mbatch_index\u001b[0m \u001b[0;34m==\u001b[0m \u001b[0;36m0\u001b[0m\u001b[0;34m:\u001b[0m\u001b[0;34m\u001b[0m\u001b[0;34m\u001b[0m\u001b[0m\n",
      "\u001b[0;32m~/miniconda3/envs/landmark/lib/python3.6/site-packages/keras/backend/tensorflow_backend.py\u001b[0m in \u001b[0;36m__call__\u001b[0;34m(self, inputs)\u001b[0m\n\u001b[1;32m   2713\u001b[0m                 \u001b[0;32mreturn\u001b[0m \u001b[0mself\u001b[0m\u001b[0;34m.\u001b[0m\u001b[0m_legacy_call\u001b[0m\u001b[0;34m(\u001b[0m\u001b[0minputs\u001b[0m\u001b[0;34m)\u001b[0m\u001b[0;34m\u001b[0m\u001b[0;34m\u001b[0m\u001b[0m\n\u001b[1;32m   2714\u001b[0m \u001b[0;34m\u001b[0m\u001b[0m\n\u001b[0;32m-> 2715\u001b[0;31m             \u001b[0;32mreturn\u001b[0m \u001b[0mself\u001b[0m\u001b[0;34m.\u001b[0m\u001b[0m_call\u001b[0m\u001b[0;34m(\u001b[0m\u001b[0minputs\u001b[0m\u001b[0;34m)\u001b[0m\u001b[0;34m\u001b[0m\u001b[0;34m\u001b[0m\u001b[0m\n\u001b[0m\u001b[1;32m   2716\u001b[0m         \u001b[0;32melse\u001b[0m\u001b[0;34m:\u001b[0m\u001b[0;34m\u001b[0m\u001b[0;34m\u001b[0m\u001b[0m\n\u001b[1;32m   2717\u001b[0m             \u001b[0;32mif\u001b[0m \u001b[0mpy_any\u001b[0m\u001b[0;34m(\u001b[0m\u001b[0mis_tensor\u001b[0m\u001b[0;34m(\u001b[0m\u001b[0mx\u001b[0m\u001b[0;34m)\u001b[0m \u001b[0;32mfor\u001b[0m \u001b[0mx\u001b[0m \u001b[0;32min\u001b[0m \u001b[0minputs\u001b[0m\u001b[0;34m)\u001b[0m\u001b[0;34m:\u001b[0m\u001b[0;34m\u001b[0m\u001b[0;34m\u001b[0m\u001b[0m\n",
      "\u001b[0;32m~/miniconda3/envs/landmark/lib/python3.6/site-packages/keras/backend/tensorflow_backend.py\u001b[0m in \u001b[0;36m_call\u001b[0;34m(self, inputs)\u001b[0m\n\u001b[1;32m   2673\u001b[0m             \u001b[0mfetched\u001b[0m \u001b[0;34m=\u001b[0m \u001b[0mself\u001b[0m\u001b[0;34m.\u001b[0m\u001b[0m_callable_fn\u001b[0m\u001b[0;34m(\u001b[0m\u001b[0;34m*\u001b[0m\u001b[0marray_vals\u001b[0m\u001b[0;34m,\u001b[0m \u001b[0mrun_metadata\u001b[0m\u001b[0;34m=\u001b[0m\u001b[0mself\u001b[0m\u001b[0;34m.\u001b[0m\u001b[0mrun_metadata\u001b[0m\u001b[0;34m)\u001b[0m\u001b[0;34m\u001b[0m\u001b[0;34m\u001b[0m\u001b[0m\n\u001b[1;32m   2674\u001b[0m         \u001b[0;32melse\u001b[0m\u001b[0;34m:\u001b[0m\u001b[0;34m\u001b[0m\u001b[0;34m\u001b[0m\u001b[0m\n\u001b[0;32m-> 2675\u001b[0;31m             \u001b[0mfetched\u001b[0m \u001b[0;34m=\u001b[0m \u001b[0mself\u001b[0m\u001b[0;34m.\u001b[0m\u001b[0m_callable_fn\u001b[0m\u001b[0;34m(\u001b[0m\u001b[0;34m*\u001b[0m\u001b[0marray_vals\u001b[0m\u001b[0;34m)\u001b[0m\u001b[0;34m\u001b[0m\u001b[0;34m\u001b[0m\u001b[0m\n\u001b[0m\u001b[1;32m   2676\u001b[0m         \u001b[0;32mreturn\u001b[0m \u001b[0mfetched\u001b[0m\u001b[0;34m[\u001b[0m\u001b[0;34m:\u001b[0m\u001b[0mlen\u001b[0m\u001b[0;34m(\u001b[0m\u001b[0mself\u001b[0m\u001b[0;34m.\u001b[0m\u001b[0moutputs\u001b[0m\u001b[0;34m)\u001b[0m\u001b[0;34m]\u001b[0m\u001b[0;34m\u001b[0m\u001b[0;34m\u001b[0m\u001b[0m\n\u001b[1;32m   2677\u001b[0m \u001b[0;34m\u001b[0m\u001b[0m\n",
      "\u001b[0;32m~/miniconda3/envs/landmark/lib/python3.6/site-packages/tensorflow/python/client/session.py\u001b[0m in \u001b[0;36m__call__\u001b[0;34m(self, *args, **kwargs)\u001b[0m\n\u001b[1;32m   1437\u001b[0m           ret = tf_session.TF_SessionRunCallable(\n\u001b[1;32m   1438\u001b[0m               \u001b[0mself\u001b[0m\u001b[0;34m.\u001b[0m\u001b[0m_session\u001b[0m\u001b[0;34m.\u001b[0m\u001b[0m_session\u001b[0m\u001b[0;34m,\u001b[0m \u001b[0mself\u001b[0m\u001b[0;34m.\u001b[0m\u001b[0m_handle\u001b[0m\u001b[0;34m,\u001b[0m \u001b[0margs\u001b[0m\u001b[0;34m,\u001b[0m \u001b[0mstatus\u001b[0m\u001b[0;34m,\u001b[0m\u001b[0;34m\u001b[0m\u001b[0;34m\u001b[0m\u001b[0m\n\u001b[0;32m-> 1439\u001b[0;31m               run_metadata_ptr)\n\u001b[0m\u001b[1;32m   1440\u001b[0m         \u001b[0;32mif\u001b[0m \u001b[0mrun_metadata\u001b[0m\u001b[0;34m:\u001b[0m\u001b[0;34m\u001b[0m\u001b[0;34m\u001b[0m\u001b[0m\n\u001b[1;32m   1441\u001b[0m           \u001b[0mproto_data\u001b[0m \u001b[0;34m=\u001b[0m \u001b[0mtf_session\u001b[0m\u001b[0;34m.\u001b[0m\u001b[0mTF_GetBuffer\u001b[0m\u001b[0;34m(\u001b[0m\u001b[0mrun_metadata_ptr\u001b[0m\u001b[0;34m)\u001b[0m\u001b[0;34m\u001b[0m\u001b[0;34m\u001b[0m\u001b[0m\n",
      "\u001b[0;31mKeyboardInterrupt\u001b[0m: "
     ]
    }
   ],
   "source": [
    "test_pred, test_max_p = predict_wcr_vote(test_info, 512, crop_p=0.1)"
   ]
  },
  {
   "cell_type": "code",
   "execution_count": null,
   "metadata": {
    "collapsed": true
   },
   "outputs": [],
   "source": [
    "predictions = pd.DataFrame(columns=['landmarks'], index=test_info.index)\n",
    "predictions['landmarks'] = [str(int(tp))+' '+ '%.16g' % pp \n",
    "                            for tp,pp in zip(test_pred, test_max_p)]\n",
    "predictions.head()"
   ]
  },
  {
   "cell_type": "code",
   "execution_count": null,
   "metadata": {
    "collapsed": true
   },
   "outputs": [],
   "source": [
    "test_info_full = pd.read_csv('test.csv', index_col=0)\n",
    "test_info_full.head()"
   ]
  },
  {
   "cell_type": "markdown",
   "metadata": {},
   "source": [
    "Fill the missing values with the most common landmark"
   ]
  },
  {
   "cell_type": "code",
   "execution_count": null,
   "metadata": {
    "collapsed": true
   },
   "outputs": [],
   "source": [
    "missing = test_info_full[test_info_full.index.isin(test_info.index)!=True]\n",
    "missing_predictions = pd.DataFrame(index=missing.index)\n",
    "missing_predictions['landmarks'] = '9633 0.0'\n",
    "missing_predictions.head()"
   ]
  },
  {
   "cell_type": "code",
   "execution_count": null,
   "metadata": {
    "collapsed": true
   },
   "outputs": [],
   "source": [
    "completed_predictions = pd.concat([predictions, missing_predictions])\n",
    "print(len(completed_predictions))"
   ]
  },
  {
   "cell_type": "code",
   "execution_count": null,
   "metadata": {
    "collapsed": true
   },
   "outputs": [],
   "source": [
    "sorted_predictions = pd.DataFrame(index=test_info_full.index)\n",
    "sorted_predictions['landmarks'] = completed_predictions['landmarks']\n",
    "sorted_predictions.tail()"
   ]
  },
  {
   "cell_type": "code",
   "execution_count": null,
   "metadata": {
    "collapsed": true
   },
   "outputs": [],
   "source": [
    "sorted_predictions.to_csv('prediction_c12.csv')"
   ]
  },
  {
   "cell_type": "code",
   "execution_count": null,
   "metadata": {
    "collapsed": true
   },
   "outputs": [],
   "source": []
  }
 ],
 "metadata": {
  "kernelspec": {
   "display_name": "Python 3",
   "language": "python",
   "name": "python3"
  },
  "language_info": {
   "codemirror_mode": {
    "name": "ipython",
    "version": 3
   },
   "file_extension": ".py",
   "mimetype": "text/x-python",
   "name": "python",
   "nbconvert_exporter": "python",
   "pygments_lexer": "ipython3",
   "version": "3.6.8"
  }
 },
 "nbformat": 4,
 "nbformat_minor": 2
}
